{
 "cells": [
  {
   "cell_type": "markdown",
   "metadata": {},
   "source": [
    "<!DOCTYPE html>\n",
    "<html>\n",
    "<head>\n",
    "<title>How The Code Works</title>\n",
    "</head>\n",
    "<body>\n",
    "<h1>How The Code Works</h1>\n",
    "<p>This Python script that uses YOLO (You Only Look Once) model from the Ultralytics library to detect objects in images and then group the images based on the detected entities. Here's a breakdown of what the script does:</p>\n",
    "\n",
    "<ol>\n",
    "    <li>Importing necessary libraries and load the <code>YOLO</code> model using the 'yolov8n.pt' pretrained model.</li>\n",
    "    <li>Define a function <code>getFolder_Path</code> that retrieves the list of all files in the given <code>folder_path</code></li>\n",
    "    <li>Define a function <code>detect_Segments</code> that runs YOLO to detect objects in each image in the folder. It saves the results, counts the number of detected entities, groups the images, and writes the results to CSV files.</li>\n",
    "    <li>Define a function <code>count_Entities</code> that takes the YOLO detection results and counts the occurrences of each detected entity.</li>\n",
    "    <li>Define a function <code>group_images</code> that creates folders for each detected entity and moves the images to their respective entity folders.</li>\n",
    "    <li>The script calls the <code>detect_Segments</code> function in the <code>__main__</code> block to start the process of detecting entities in the images and grouping them accordingly.</li>\n",
    "</ol>\n",
    "<br>\n",
    "<p><strong>Additional Information:</strong></p>\n",
    "<ul>\n",
    "    <li>The data is saved in a CSV in the same folder as detected image in <code>./All_Images</code></li>\n",
    "    <li>The data is based of the results by the YOLO model and may <code>vary</code> from the original sometimes</li>\n",
    "</ul>\n",
    "</body>\n",
    "</html>\n"
   ]
  },
  {
   "cell_type": "code",
   "execution_count": 1,
   "metadata": {},
   "outputs": [
    {
     "name": "stderr",
     "output_type": "stream",
     "text": [
      "\n",
      "image 1/1 d:\\Adobe\\Aithon\\Aithon\\All_Images\\1.jpg: 384x640 4 persons, 1 couch, 318.4ms\n",
      "Speed: 8.7ms preprocess, 318.4ms inference, 6.6ms postprocess per image at shape (1, 3, 384, 640)\n",
      "Results saved to \u001b[1mruns\\detect\\predict14\u001b[0m\n",
      "\n"
     ]
    },
    {
     "name": "stdout",
     "output_type": "stream",
     "text": [
      "Data saved to ./runs/detect/predict/1.csv\n"
     ]
    },
    {
     "name": "stderr",
     "output_type": "stream",
     "text": [
      "image 1/1 d:\\Adobe\\Aithon\\Aithon\\All_Images\\2.jpg: 448x640 3 persons, 1 bed, 313.3ms\n",
      "Speed: 9.2ms preprocess, 313.3ms inference, 4.6ms postprocess per image at shape (1, 3, 448, 640)\n",
      "Results saved to \u001b[1mruns\\detect\\predict14\u001b[0m\n",
      "\n"
     ]
    },
    {
     "name": "stdout",
     "output_type": "stream",
     "text": [
      "Data saved to ./runs/detect/predict/2.csv\n"
     ]
    },
    {
     "name": "stderr",
     "output_type": "stream",
     "text": [
      "image 1/1 d:\\Adobe\\Aithon\\Aithon\\All_Images\\3.jpg: 448x640 3 persons, 261.2ms\n",
      "Speed: 7.5ms preprocess, 261.2ms inference, 9.1ms postprocess per image at shape (1, 3, 448, 640)\n",
      "Results saved to \u001b[1mruns\\detect\\predict14\u001b[0m\n",
      "\n"
     ]
    },
    {
     "name": "stdout",
     "output_type": "stream",
     "text": [
      "Data saved to ./runs/detect/predict/3.csv\n"
     ]
    },
    {
     "name": "stderr",
     "output_type": "stream",
     "text": [
      "image 1/1 d:\\Adobe\\Aithon\\Aithon\\All_Images\\AdobeStock_112814949.jpeg: 448x640 1 spoon, 1 bowl, 1 sandwich, 268.5ms\n",
      "Speed: 10.5ms preprocess, 268.5ms inference, 4.0ms postprocess per image at shape (1, 3, 448, 640)\n",
      "Results saved to \u001b[1mruns\\detect\\predict14\u001b[0m\n",
      "\n"
     ]
    },
    {
     "name": "stdout",
     "output_type": "stream",
     "text": [
      "Data saved to ./runs/detect/predict/AdobeStock_112814949.csv\n"
     ]
    },
    {
     "name": "stderr",
     "output_type": "stream",
     "text": [
      "image 1/1 d:\\Adobe\\Aithon\\Aithon\\All_Images\\AdobeStock_119085612.jpeg: 480x640 1 cup, 1 toothbrush, 342.6ms\n",
      "Speed: 10.6ms preprocess, 342.6ms inference, 6.5ms postprocess per image at shape (1, 3, 480, 640)\n",
      "Results saved to \u001b[1mruns\\detect\\predict14\u001b[0m\n",
      "\n"
     ]
    },
    {
     "name": "stdout",
     "output_type": "stream",
     "text": [
      "Data saved to ./runs/detect/predict/AdobeStock_119085612.csv\n"
     ]
    },
    {
     "name": "stderr",
     "output_type": "stream",
     "text": [
      "image 1/1 d:\\Adobe\\Aithon\\Aithon\\All_Images\\AdobeStock_189740072.jpeg: 448x640 1 person, 306.5ms\n",
      "Speed: 8.5ms preprocess, 306.5ms inference, 4.5ms postprocess per image at shape (1, 3, 448, 640)\n",
      "Results saved to \u001b[1mruns\\detect\\predict14\u001b[0m\n",
      "\n"
     ]
    },
    {
     "name": "stdout",
     "output_type": "stream",
     "text": [
      "Data saved to ./runs/detect/predict/AdobeStock_189740072.csv\n"
     ]
    },
    {
     "name": "stderr",
     "output_type": "stream",
     "text": [
      "image 1/1 d:\\Adobe\\Aithon\\Aithon\\All_Images\\AdobeStock_254640691.jpeg: 448x640 1 spoon, 4 bowls, 3 oranges, 1 dining table, 591.4ms\n",
      "Speed: 7.8ms preprocess, 591.4ms inference, 8.1ms postprocess per image at shape (1, 3, 448, 640)\n",
      "Results saved to \u001b[1mruns\\detect\\predict14\u001b[0m\n",
      "\n"
     ]
    },
    {
     "name": "stdout",
     "output_type": "stream",
     "text": [
      "Data saved to ./runs/detect/predict/AdobeStock_254640691.csv\n"
     ]
    },
    {
     "name": "stderr",
     "output_type": "stream",
     "text": [
      "image 1/1 d:\\Adobe\\Aithon\\Aithon\\All_Images\\AdobeStock_255497590.jpeg: 352x640 1 bowl, 379.6ms\n",
      "Speed: 5.0ms preprocess, 379.6ms inference, 5.5ms postprocess per image at shape (1, 3, 352, 640)\n",
      "Results saved to \u001b[1mruns\\detect\\predict14\u001b[0m\n",
      "\n"
     ]
    },
    {
     "name": "stdout",
     "output_type": "stream",
     "text": [
      "Data saved to ./runs/detect/predict/AdobeStock_255497590.csv\n"
     ]
    },
    {
     "name": "stderr",
     "output_type": "stream",
     "text": [
      "image 1/1 d:\\Adobe\\Aithon\\Aithon\\All_Images\\AdobeStock_257024669.jpeg: 448x640 1 suitcase, 347.7ms\n",
      "Speed: 11.7ms preprocess, 347.7ms inference, 4.0ms postprocess per image at shape (1, 3, 448, 640)\n",
      "Results saved to \u001b[1mruns\\detect\\predict14\u001b[0m\n",
      "\n"
     ]
    },
    {
     "name": "stdout",
     "output_type": "stream",
     "text": [
      "Data saved to ./runs/detect/predict/AdobeStock_257024669.csv\n"
     ]
    },
    {
     "name": "stderr",
     "output_type": "stream",
     "text": [
      "image 1/1 d:\\Adobe\\Aithon\\Aithon\\All_Images\\AdobeStock_286178925.jpeg: 448x640 5 bowls, 6 donuts, 1 cake, 1 dining table, 389.2ms\n",
      "Speed: 9.1ms preprocess, 389.2ms inference, 3.5ms postprocess per image at shape (1, 3, 448, 640)\n",
      "Results saved to \u001b[1mruns\\detect\\predict14\u001b[0m\n",
      "\n"
     ]
    },
    {
     "name": "stdout",
     "output_type": "stream",
     "text": [
      "Data saved to ./runs/detect/predict/AdobeStock_286178925.csv\n"
     ]
    },
    {
     "name": "stderr",
     "output_type": "stream",
     "text": [
      "image 1/1 d:\\Adobe\\Aithon\\Aithon\\All_Images\\AdobeStock_297274410.jpeg: 448x640 2 persons, 3 bowls, 1 dining table, 467.7ms\n",
      "Speed: 6.5ms preprocess, 467.7ms inference, 13.5ms postprocess per image at shape (1, 3, 448, 640)\n",
      "Results saved to \u001b[1mruns\\detect\\predict14\u001b[0m\n",
      "\n"
     ]
    },
    {
     "name": "stdout",
     "output_type": "stream",
     "text": [
      "Data saved to ./runs/detect/predict/AdobeStock_297274410.csv\n"
     ]
    },
    {
     "name": "stderr",
     "output_type": "stream",
     "text": [
      "image 1/1 d:\\Adobe\\Aithon\\Aithon\\All_Images\\AdobeStock_315333860.jpeg: 448x640 3 persons, 1 wine glass, 4 cups, 1 spoon, 1 bowl, 4 pizzas, 1 dining table, 362.6ms\n",
      "Speed: 7.1ms preprocess, 362.6ms inference, 3.1ms postprocess per image at shape (1, 3, 448, 640)\n",
      "Results saved to \u001b[1mruns\\detect\\predict14\u001b[0m\n",
      "\n"
     ]
    },
    {
     "name": "stdout",
     "output_type": "stream",
     "text": [
      "Data saved to ./runs/detect/predict/AdobeStock_315333860.csv\n"
     ]
    },
    {
     "name": "stderr",
     "output_type": "stream",
     "text": [
      "image 1/1 d:\\Adobe\\Aithon\\Aithon\\All_Images\\AdobeStock_321810820.jpeg: 384x640 5 persons, 1 skateboard, 252.0ms\n",
      "Speed: 4.0ms preprocess, 252.0ms inference, 5.3ms postprocess per image at shape (1, 3, 384, 640)\n",
      "Results saved to \u001b[1mruns\\detect\\predict14\u001b[0m\n",
      "\n"
     ]
    },
    {
     "name": "stdout",
     "output_type": "stream",
     "text": [
      "Data saved to ./runs/detect/predict/AdobeStock_321810820.csv\n"
     ]
    },
    {
     "name": "stderr",
     "output_type": "stream",
     "text": [
      "image 1/1 d:\\Adobe\\Aithon\\Aithon\\All_Images\\AdobeStock_323628715.jpeg: 448x640 7 persons, 2 cups, 1 bowl, 4 pizzas, 1 dining table, 268.1ms\n",
      "Speed: 4.0ms preprocess, 268.1ms inference, 6.0ms postprocess per image at shape (1, 3, 448, 640)\n",
      "Results saved to \u001b[1mruns\\detect\\predict14\u001b[0m\n",
      "\n"
     ]
    },
    {
     "name": "stdout",
     "output_type": "stream",
     "text": [
      "Data saved to ./runs/detect/predict/AdobeStock_323628715.csv\n"
     ]
    },
    {
     "name": "stderr",
     "output_type": "stream",
     "text": [
      "image 1/1 d:\\Adobe\\Aithon\\Aithon\\All_Images\\AdobeStock_349162891.jpeg: 608x640 1 sandwich, 725.3ms\n",
      "Speed: 7.7ms preprocess, 725.3ms inference, 11.6ms postprocess per image at shape (1, 3, 608, 640)\n",
      "Results saved to \u001b[1mruns\\detect\\predict14\u001b[0m\n",
      "\n"
     ]
    },
    {
     "name": "stdout",
     "output_type": "stream",
     "text": [
      "Data saved to ./runs/detect/predict/AdobeStock_349162891.csv\n"
     ]
    },
    {
     "name": "stderr",
     "output_type": "stream",
     "text": [
      "image 1/1 d:\\Adobe\\Aithon\\Aithon\\All_Images\\AdobeStock_425653713.jpeg: 448x640 1 handbag, 1 bowl, 1 potted plant, 1 bed, 1 laptop, 1 keyboard, 295.2ms\n",
      "Speed: 5.5ms preprocess, 295.2ms inference, 4.0ms postprocess per image at shape (1, 3, 448, 640)\n",
      "Results saved to \u001b[1mruns\\detect\\predict14\u001b[0m\n",
      "\n"
     ]
    },
    {
     "name": "stdout",
     "output_type": "stream",
     "text": [
      "Data saved to ./runs/detect/predict/AdobeStock_425653713.csv\n"
     ]
    },
    {
     "name": "stderr",
     "output_type": "stream",
     "text": [
      "image 1/1 d:\\Adobe\\Aithon\\Aithon\\All_Images\\AdobeStock_57849082.jpeg: 448x640 1 person, 2 pizzas, 1 dining table, 251.5ms\n",
      "Speed: 7.1ms preprocess, 251.5ms inference, 3.5ms postprocess per image at shape (1, 3, 448, 640)\n",
      "Results saved to \u001b[1mruns\\detect\\predict14\u001b[0m\n",
      "\n"
     ]
    },
    {
     "name": "stdout",
     "output_type": "stream",
     "text": [
      "Data saved to ./runs/detect/predict/AdobeStock_57849082.csv\n"
     ]
    },
    {
     "name": "stderr",
     "output_type": "stream",
     "text": [
      "image 1/1 d:\\Adobe\\Aithon\\Aithon\\All_Images\\AdobeStock_58143201.jpeg: 480x640 (no detections), 365.3ms\n",
      "Speed: 6.5ms preprocess, 365.3ms inference, 6.5ms postprocess per image at shape (1, 3, 480, 640)\n",
      "Results saved to \u001b[1mruns\\detect\\predict14\u001b[0m\n",
      "\n"
     ]
    },
    {
     "name": "stdout",
     "output_type": "stream",
     "text": [
      "Data saved to ./runs/detect/predict/AdobeStock_58143201.csv\n"
     ]
    },
    {
     "name": "stderr",
     "output_type": "stream",
     "text": [
      "image 1/1 d:\\Adobe\\Aithon\\Aithon\\All_Images\\AdobeStock_584637362.jpeg: 448x640 2 airplanes, 3 suitcases, 287.2ms\n",
      "Speed: 12.8ms preprocess, 287.2ms inference, 2.5ms postprocess per image at shape (1, 3, 448, 640)\n",
      "Results saved to \u001b[1mruns\\detect\\predict14\u001b[0m\n",
      "\n"
     ]
    },
    {
     "name": "stdout",
     "output_type": "stream",
     "text": [
      "Data saved to ./runs/detect/predict/AdobeStock_584637362.csv\n"
     ]
    },
    {
     "name": "stderr",
     "output_type": "stream",
     "text": [
      "image 1/1 d:\\Adobe\\Aithon\\Aithon\\All_Images\\AdobeStock_594853635.jpeg: 224x640 8 sandwichs, 170.6ms\n",
      "Speed: 2.5ms preprocess, 170.6ms inference, 29.7ms postprocess per image at shape (1, 3, 224, 640)\n",
      "Results saved to \u001b[1mruns\\detect\\predict14\u001b[0m\n",
      "\n"
     ]
    },
    {
     "name": "stdout",
     "output_type": "stream",
     "text": [
      "Data saved to ./runs/detect/predict/AdobeStock_594853635.csv\n"
     ]
    },
    {
     "name": "stderr",
     "output_type": "stream",
     "text": [
      "image 1/1 d:\\Adobe\\Aithon\\Aithon\\All_Images\\AdobeStock_608957878.jpeg: 448x640 2 persons, 2 toothbrushs, 557.4ms\n",
      "Speed: 22.1ms preprocess, 557.4ms inference, 4.5ms postprocess per image at shape (1, 3, 448, 640)\n",
      "Results saved to \u001b[1mruns\\detect\\predict14\u001b[0m\n",
      "\n"
     ]
    },
    {
     "name": "stdout",
     "output_type": "stream",
     "text": [
      "Data saved to ./runs/detect/predict/AdobeStock_608957878.csv\n"
     ]
    },
    {
     "name": "stderr",
     "output_type": "stream",
     "text": [
      "image 1/1 d:\\Adobe\\Aithon\\Aithon\\All_Images\\AdobeStock_618914535.jpeg: 480x640 2 sandwichs, 477.4ms\n",
      "Speed: 25.6ms preprocess, 477.4ms inference, 9.5ms postprocess per image at shape (1, 3, 480, 640)\n",
      "Results saved to \u001b[1mruns\\detect\\predict14\u001b[0m\n",
      "\n"
     ]
    },
    {
     "name": "stdout",
     "output_type": "stream",
     "text": [
      "Data saved to ./runs/detect/predict/AdobeStock_618914535.csv\n"
     ]
    },
    {
     "name": "stderr",
     "output_type": "stream",
     "text": [
      "image 1/1 d:\\Adobe\\Aithon\\Aithon\\All_Images\\AdobeStock_92669497.jpeg: 448x640 7 persons, 1 suitcase, 274.9ms\n",
      "Speed: 6.6ms preprocess, 274.9ms inference, 5.6ms postprocess per image at shape (1, 3, 448, 640)\n",
      "Results saved to \u001b[1mruns\\detect\\predict14\u001b[0m\n",
      "\n"
     ]
    },
    {
     "name": "stdout",
     "output_type": "stream",
     "text": [
      "Data saved to ./runs/detect/predict/AdobeStock_92669497.csv\n"
     ]
    },
    {
     "name": "stderr",
     "output_type": "stream",
     "text": [
      "image 1/1 d:\\Adobe\\Aithon\\Aithon\\All_Images\\AdobeStock_96284524.jpeg: 448x640 12 donuts, 249.1ms\n",
      "Speed: 9.1ms preprocess, 249.1ms inference, 3.5ms postprocess per image at shape (1, 3, 448, 640)\n",
      "Results saved to \u001b[1mruns\\detect\\predict14\u001b[0m\n",
      "\n"
     ]
    },
    {
     "name": "stdout",
     "output_type": "stream",
     "text": [
      "Data saved to ./runs/detect/predict/AdobeStock_96284524.csv\n"
     ]
    },
    {
     "name": "stderr",
     "output_type": "stream",
     "text": [
      "image 1/1 d:\\Adobe\\Aithon\\Aithon\\All_Images\\DL.jpeg: 384x640 1 bottle, 306.2ms\n",
      "Speed: 10.1ms preprocess, 306.2ms inference, 5.5ms postprocess per image at shape (1, 3, 384, 640)\n",
      "Results saved to \u001b[1mruns\\detect\\predict14\u001b[0m\n",
      "\n"
     ]
    },
    {
     "name": "stdout",
     "output_type": "stream",
     "text": [
      "Data saved to ./runs/detect/predict/DL.csv\n"
     ]
    },
    {
     "name": "stderr",
     "output_type": "stream",
     "text": [
      "image 1/1 d:\\Adobe\\Aithon\\Aithon\\All_Images\\maxresdefault.jpeg: 384x640 3 persons, 341.6ms\n",
      "Speed: 9.7ms preprocess, 341.6ms inference, 4.5ms postprocess per image at shape (1, 3, 384, 640)\n",
      "Results saved to \u001b[1mruns\\detect\\predict14\u001b[0m\n",
      "\n"
     ]
    },
    {
     "name": "stdout",
     "output_type": "stream",
     "text": [
      "Data saved to ./runs/detect/predict/maxresdefault.csv\n"
     ]
    },
    {
     "name": "stderr",
     "output_type": "stream",
     "text": [
      "image 1/1 d:\\Adobe\\Aithon\\Aithon\\All_Images\\Mist.jpeg: 448x640 1 tie, 480.1ms\n",
      "Speed: 5.7ms preprocess, 480.1ms inference, 10.0ms postprocess per image at shape (1, 3, 448, 640)\n",
      "Results saved to \u001b[1mruns\\detect\\predict14\u001b[0m\n",
      "\n"
     ]
    },
    {
     "name": "stdout",
     "output_type": "stream",
     "text": [
      "Data saved to ./runs/detect/predict/Mist.csv\n"
     ]
    },
    {
     "name": "stderr",
     "output_type": "stream",
     "text": [
      "image 1/1 d:\\Adobe\\Aithon\\Aithon\\All_Images\\1.jpg: 384x640 4 persons, 1 couch, 284.3ms\n",
      "Speed: 5.5ms preprocess, 284.3ms inference, 4.5ms postprocess per image at shape (1, 3, 384, 640)\n",
      "Results saved to \u001b[1mruns\\detect\\predict14\u001b[0m\n",
      "\n"
     ]
    },
    {
     "name": "stdout",
     "output_type": "stream",
     "text": [
      "Data saved to ./runs/detect/predict/1.csv\n"
     ]
    },
    {
     "name": "stderr",
     "output_type": "stream",
     "text": [
      "image 1/1 d:\\Adobe\\Aithon\\Aithon\\All_Images\\2.jpg: 448x640 3 persons, 1 bed, 331.0ms\n",
      "Speed: 10.2ms preprocess, 331.0ms inference, 6.2ms postprocess per image at shape (1, 3, 448, 640)\n",
      "Results saved to \u001b[1mruns\\detect\\predict14\u001b[0m\n",
      "\n"
     ]
    },
    {
     "name": "stdout",
     "output_type": "stream",
     "text": [
      "Data saved to ./runs/detect/predict/2.csv\n"
     ]
    },
    {
     "name": "stderr",
     "output_type": "stream",
     "text": [
      "image 1/1 d:\\Adobe\\Aithon\\Aithon\\All_Images\\3.jpg: 448x640 3 persons, 398.7ms\n",
      "Speed: 5.2ms preprocess, 398.7ms inference, 3.6ms postprocess per image at shape (1, 3, 448, 640)\n",
      "Results saved to \u001b[1mruns\\detect\\predict14\u001b[0m\n",
      "\n"
     ]
    },
    {
     "name": "stdout",
     "output_type": "stream",
     "text": [
      "Data saved to ./runs/detect/predict/3.csv\n"
     ]
    },
    {
     "name": "stderr",
     "output_type": "stream",
     "text": [
      "image 1/1 d:\\Adobe\\Aithon\\Aithon\\All_Images\\AdobeStock_112814949.jpeg: 448x640 1 spoon, 1 bowl, 1 sandwich, 392.0ms\n",
      "Speed: 6.5ms preprocess, 392.0ms inference, 8.6ms postprocess per image at shape (1, 3, 448, 640)\n",
      "Results saved to \u001b[1mruns\\detect\\predict14\u001b[0m\n",
      "\n"
     ]
    },
    {
     "name": "stdout",
     "output_type": "stream",
     "text": [
      "Data saved to ./runs/detect/predict/AdobeStock_112814949.csv\n"
     ]
    },
    {
     "name": "stderr",
     "output_type": "stream",
     "text": [
      "image 1/1 d:\\Adobe\\Aithon\\Aithon\\All_Images\\AdobeStock_119085612.jpeg: 480x640 1 cup, 1 toothbrush, 411.1ms\n",
      "Speed: 9.1ms preprocess, 411.1ms inference, 6.0ms postprocess per image at shape (1, 3, 480, 640)\n",
      "Results saved to \u001b[1mruns\\detect\\predict14\u001b[0m\n",
      "\n"
     ]
    },
    {
     "name": "stdout",
     "output_type": "stream",
     "text": [
      "Data saved to ./runs/detect/predict/AdobeStock_119085612.csv\n"
     ]
    },
    {
     "name": "stderr",
     "output_type": "stream",
     "text": [
      "image 1/1 d:\\Adobe\\Aithon\\Aithon\\All_Images\\AdobeStock_189740072.jpeg: 448x640 1 person, 354.4ms\n",
      "Speed: 7.9ms preprocess, 354.4ms inference, 3.5ms postprocess per image at shape (1, 3, 448, 640)\n",
      "Results saved to \u001b[1mruns\\detect\\predict14\u001b[0m\n",
      "\n"
     ]
    },
    {
     "name": "stdout",
     "output_type": "stream",
     "text": [
      "Data saved to ./runs/detect/predict/AdobeStock_189740072.csv\n"
     ]
    },
    {
     "name": "stderr",
     "output_type": "stream",
     "text": [
      "image 1/1 d:\\Adobe\\Aithon\\Aithon\\All_Images\\AdobeStock_254640691.jpeg: 448x640 1 spoon, 4 bowls, 3 oranges, 1 dining table, 397.8ms\n",
      "Speed: 9.8ms preprocess, 397.8ms inference, 7.1ms postprocess per image at shape (1, 3, 448, 640)\n",
      "Results saved to \u001b[1mruns\\detect\\predict14\u001b[0m\n",
      "\n"
     ]
    },
    {
     "name": "stdout",
     "output_type": "stream",
     "text": [
      "Data saved to ./runs/detect/predict/AdobeStock_254640691.csv\n"
     ]
    },
    {
     "name": "stderr",
     "output_type": "stream",
     "text": [
      "image 1/1 d:\\Adobe\\Aithon\\Aithon\\All_Images\\AdobeStock_255497590.jpeg: 352x640 1 bowl, 248.1ms\n",
      "Speed: 7.5ms preprocess, 248.1ms inference, 7.1ms postprocess per image at shape (1, 3, 352, 640)\n",
      "Results saved to \u001b[1mruns\\detect\\predict14\u001b[0m\n",
      "\n"
     ]
    },
    {
     "name": "stdout",
     "output_type": "stream",
     "text": [
      "Data saved to ./runs/detect/predict/AdobeStock_255497590.csv\n"
     ]
    },
    {
     "name": "stderr",
     "output_type": "stream",
     "text": [
      "image 1/1 d:\\Adobe\\Aithon\\Aithon\\All_Images\\AdobeStock_257024669.jpeg: 448x640 1 suitcase, 461.0ms\n",
      "Speed: 48.7ms preprocess, 461.0ms inference, 3.6ms postprocess per image at shape (1, 3, 448, 640)\n",
      "Results saved to \u001b[1mruns\\detect\\predict14\u001b[0m\n",
      "\n"
     ]
    },
    {
     "name": "stdout",
     "output_type": "stream",
     "text": [
      "Data saved to ./runs/detect/predict/AdobeStock_257024669.csv\n"
     ]
    },
    {
     "name": "stderr",
     "output_type": "stream",
     "text": [
      "image 1/1 d:\\Adobe\\Aithon\\Aithon\\All_Images\\AdobeStock_286178925.jpeg: 448x640 5 bowls, 6 donuts, 1 cake, 1 dining table, 344.7ms\n",
      "Speed: 8.5ms preprocess, 344.7ms inference, 11.4ms postprocess per image at shape (1, 3, 448, 640)\n",
      "Results saved to \u001b[1mruns\\detect\\predict14\u001b[0m\n",
      "\n"
     ]
    },
    {
     "name": "stdout",
     "output_type": "stream",
     "text": [
      "Data saved to ./runs/detect/predict/AdobeStock_286178925.csv\n"
     ]
    },
    {
     "name": "stderr",
     "output_type": "stream",
     "text": [
      "image 1/1 d:\\Adobe\\Aithon\\Aithon\\All_Images\\AdobeStock_297274410.jpeg: 448x640 2 persons, 3 bowls, 1 dining table, 380.2ms\n",
      "Speed: 10.6ms preprocess, 380.2ms inference, 4.0ms postprocess per image at shape (1, 3, 448, 640)\n",
      "Results saved to \u001b[1mruns\\detect\\predict14\u001b[0m\n",
      "\n"
     ]
    },
    {
     "name": "stdout",
     "output_type": "stream",
     "text": [
      "Data saved to ./runs/detect/predict/AdobeStock_297274410.csv\n"
     ]
    },
    {
     "name": "stderr",
     "output_type": "stream",
     "text": [
      "image 1/1 d:\\Adobe\\Aithon\\Aithon\\All_Images\\AdobeStock_315333860.jpeg: 448x640 3 persons, 1 wine glass, 4 cups, 1 spoon, 1 bowl, 4 pizzas, 1 dining table, 287.9ms\n",
      "Speed: 6.5ms preprocess, 287.9ms inference, 5.0ms postprocess per image at shape (1, 3, 448, 640)\n",
      "Results saved to \u001b[1mruns\\detect\\predict14\u001b[0m\n",
      "\n"
     ]
    },
    {
     "name": "stdout",
     "output_type": "stream",
     "text": [
      "Data saved to ./runs/detect/predict/AdobeStock_315333860.csv\n"
     ]
    },
    {
     "name": "stderr",
     "output_type": "stream",
     "text": [
      "image 1/1 d:\\Adobe\\Aithon\\Aithon\\All_Images\\AdobeStock_321810820.jpeg: 384x640 5 persons, 1 skateboard, 217.7ms\n",
      "Speed: 6.5ms preprocess, 217.7ms inference, 3.2ms postprocess per image at shape (1, 3, 384, 640)\n",
      "Results saved to \u001b[1mruns\\detect\\predict14\u001b[0m\n",
      "\n"
     ]
    },
    {
     "name": "stdout",
     "output_type": "stream",
     "text": [
      "Data saved to ./runs/detect/predict/AdobeStock_321810820.csv\n"
     ]
    },
    {
     "name": "stderr",
     "output_type": "stream",
     "text": [
      "image 1/1 d:\\Adobe\\Aithon\\Aithon\\All_Images\\AdobeStock_323628715.jpeg: 448x640 7 persons, 2 cups, 1 bowl, 4 pizzas, 1 dining table, 333.9ms\n",
      "Speed: 15.6ms preprocess, 333.9ms inference, 31.6ms postprocess per image at shape (1, 3, 448, 640)\n",
      "Results saved to \u001b[1mruns\\detect\\predict14\u001b[0m\n",
      "\n"
     ]
    },
    {
     "name": "stdout",
     "output_type": "stream",
     "text": [
      "Data saved to ./runs/detect/predict/AdobeStock_323628715.csv\n"
     ]
    },
    {
     "name": "stderr",
     "output_type": "stream",
     "text": [
      "image 1/1 d:\\Adobe\\Aithon\\Aithon\\All_Images\\AdobeStock_349162891.jpeg: 608x640 1 sandwich, 457.0ms\n",
      "Speed: 13.2ms preprocess, 457.0ms inference, 3.5ms postprocess per image at shape (1, 3, 608, 640)\n",
      "Results saved to \u001b[1mruns\\detect\\predict14\u001b[0m\n",
      "\n"
     ]
    },
    {
     "name": "stdout",
     "output_type": "stream",
     "text": [
      "Data saved to ./runs/detect/predict/AdobeStock_349162891.csv\n"
     ]
    },
    {
     "name": "stderr",
     "output_type": "stream",
     "text": [
      "image 1/1 d:\\Adobe\\Aithon\\Aithon\\All_Images\\AdobeStock_425653713.jpeg: 448x640 1 handbag, 1 bowl, 1 potted plant, 1 bed, 1 laptop, 1 keyboard, 250.0ms\n",
      "Speed: 4.5ms preprocess, 250.0ms inference, 10.1ms postprocess per image at shape (1, 3, 448, 640)\n",
      "Results saved to \u001b[1mruns\\detect\\predict14\u001b[0m\n",
      "\n"
     ]
    },
    {
     "name": "stdout",
     "output_type": "stream",
     "text": [
      "Data saved to ./runs/detect/predict/AdobeStock_425653713.csv\n"
     ]
    },
    {
     "name": "stderr",
     "output_type": "stream",
     "text": [
      "image 1/1 d:\\Adobe\\Aithon\\Aithon\\All_Images\\AdobeStock_57849082.jpeg: 448x640 1 person, 2 pizzas, 1 dining table, 355.0ms\n",
      "Speed: 7.1ms preprocess, 355.0ms inference, 4.0ms postprocess per image at shape (1, 3, 448, 640)\n",
      "Results saved to \u001b[1mruns\\detect\\predict14\u001b[0m\n",
      "\n"
     ]
    },
    {
     "name": "stdout",
     "output_type": "stream",
     "text": [
      "Data saved to ./runs/detect/predict/AdobeStock_57849082.csv\n"
     ]
    },
    {
     "name": "stderr",
     "output_type": "stream",
     "text": [
      "image 1/1 d:\\Adobe\\Aithon\\Aithon\\All_Images\\AdobeStock_58143201.jpeg: 480x640 (no detections), 286.0ms\n",
      "Speed: 8.1ms preprocess, 286.0ms inference, 3.0ms postprocess per image at shape (1, 3, 480, 640)\n",
      "Results saved to \u001b[1mruns\\detect\\predict14\u001b[0m\n",
      "\n"
     ]
    },
    {
     "name": "stdout",
     "output_type": "stream",
     "text": [
      "Data saved to ./runs/detect/predict/AdobeStock_58143201.csv\n"
     ]
    },
    {
     "name": "stderr",
     "output_type": "stream",
     "text": [
      "image 1/1 d:\\Adobe\\Aithon\\Aithon\\All_Images\\AdobeStock_584637362.jpeg: 448x640 2 airplanes, 3 suitcases, 227.9ms\n",
      "Speed: 3.5ms preprocess, 227.9ms inference, 2.2ms postprocess per image at shape (1, 3, 448, 640)\n",
      "Results saved to \u001b[1mruns\\detect\\predict14\u001b[0m\n",
      "\n"
     ]
    },
    {
     "name": "stdout",
     "output_type": "stream",
     "text": [
      "Data saved to ./runs/detect/predict/AdobeStock_584637362.csv\n"
     ]
    },
    {
     "name": "stderr",
     "output_type": "stream",
     "text": [
      "image 1/1 d:\\Adobe\\Aithon\\Aithon\\All_Images\\AdobeStock_594853635.jpeg: 224x640 8 sandwichs, 159.7ms\n",
      "Speed: 3.5ms preprocess, 159.7ms inference, 2.0ms postprocess per image at shape (1, 3, 224, 640)\n",
      "Results saved to \u001b[1mruns\\detect\\predict14\u001b[0m\n",
      "\n"
     ]
    },
    {
     "name": "stdout",
     "output_type": "stream",
     "text": [
      "Data saved to ./runs/detect/predict/AdobeStock_594853635.csv\n"
     ]
    },
    {
     "name": "stderr",
     "output_type": "stream",
     "text": [
      "image 1/1 d:\\Adobe\\Aithon\\Aithon\\All_Images\\AdobeStock_608957878.jpeg: 448x640 2 persons, 2 toothbrushs, 266.9ms\n",
      "Speed: 7.5ms preprocess, 266.9ms inference, 4.0ms postprocess per image at shape (1, 3, 448, 640)\n",
      "Results saved to \u001b[1mruns\\detect\\predict14\u001b[0m\n",
      "\n"
     ]
    },
    {
     "name": "stdout",
     "output_type": "stream",
     "text": [
      "Data saved to ./runs/detect/predict/AdobeStock_608957878.csv\n"
     ]
    },
    {
     "name": "stderr",
     "output_type": "stream",
     "text": [
      "image 1/1 d:\\Adobe\\Aithon\\Aithon\\All_Images\\AdobeStock_618914535.jpeg: 480x640 2 sandwichs, 311.2ms\n",
      "Speed: 5.0ms preprocess, 311.2ms inference, 5.0ms postprocess per image at shape (1, 3, 480, 640)\n",
      "Results saved to \u001b[1mruns\\detect\\predict14\u001b[0m\n",
      "\n"
     ]
    },
    {
     "name": "stdout",
     "output_type": "stream",
     "text": [
      "Data saved to ./runs/detect/predict/AdobeStock_618914535.csv\n"
     ]
    },
    {
     "name": "stderr",
     "output_type": "stream",
     "text": [
      "image 1/1 d:\\Adobe\\Aithon\\Aithon\\All_Images\\AdobeStock_92669497.jpeg: 448x640 7 persons, 1 suitcase, 235.5ms\n",
      "Speed: 6.1ms preprocess, 235.5ms inference, 2.2ms postprocess per image at shape (1, 3, 448, 640)\n",
      "Results saved to \u001b[1mruns\\detect\\predict14\u001b[0m\n",
      "\n"
     ]
    },
    {
     "name": "stdout",
     "output_type": "stream",
     "text": [
      "Data saved to ./runs/detect/predict/AdobeStock_92669497.csv\n"
     ]
    },
    {
     "name": "stderr",
     "output_type": "stream",
     "text": [
      "image 1/1 d:\\Adobe\\Aithon\\Aithon\\All_Images\\AdobeStock_96284524.jpeg: 448x640 12 donuts, 267.3ms\n",
      "Speed: 6.9ms preprocess, 267.3ms inference, 5.6ms postprocess per image at shape (1, 3, 448, 640)\n",
      "Results saved to \u001b[1mruns\\detect\\predict14\u001b[0m\n",
      "\n"
     ]
    },
    {
     "name": "stdout",
     "output_type": "stream",
     "text": [
      "Data saved to ./runs/detect/predict/AdobeStock_96284524.csv\n"
     ]
    },
    {
     "name": "stderr",
     "output_type": "stream",
     "text": [
      "image 1/1 d:\\Adobe\\Aithon\\Aithon\\All_Images\\DL.jpeg: 384x640 1 bottle, 296.0ms\n",
      "Speed: 7.5ms preprocess, 296.0ms inference, 7.5ms postprocess per image at shape (1, 3, 384, 640)\n",
      "Results saved to \u001b[1mruns\\detect\\predict14\u001b[0m\n",
      "\n"
     ]
    },
    {
     "name": "stdout",
     "output_type": "stream",
     "text": [
      "Data saved to ./runs/detect/predict/DL.csv\n"
     ]
    },
    {
     "name": "stderr",
     "output_type": "stream",
     "text": [
      "image 1/1 d:\\Adobe\\Aithon\\Aithon\\All_Images\\maxresdefault.jpeg: 384x640 3 persons, 213.5ms\n",
      "Speed: 5.4ms preprocess, 213.5ms inference, 6.7ms postprocess per image at shape (1, 3, 384, 640)\n",
      "Results saved to \u001b[1mruns\\detect\\predict14\u001b[0m\n",
      "\n"
     ]
    },
    {
     "name": "stdout",
     "output_type": "stream",
     "text": [
      "Data saved to ./runs/detect/predict/maxresdefault.csv\n"
     ]
    },
    {
     "name": "stderr",
     "output_type": "stream",
     "text": [
      "image 1/1 d:\\Adobe\\Aithon\\Aithon\\All_Images\\Mist.jpeg: 448x640 1 tie, 283.8ms\n",
      "Speed: 6.0ms preprocess, 283.8ms inference, 4.0ms postprocess per image at shape (1, 3, 448, 640)\n",
      "Results saved to \u001b[1mruns\\detect\\predict14\u001b[0m\n",
      "\n"
     ]
    },
    {
     "name": "stdout",
     "output_type": "stream",
     "text": [
      "Data saved to ./runs/detect/predict/Mist.csv\n"
     ]
    },
    {
     "name": "stderr",
     "output_type": "stream",
     "text": [
      "image 1/1 d:\\Adobe\\Aithon\\Aithon\\All_Images\\1.jpg: 384x640 4 persons, 1 couch, 195.5ms\n",
      "Speed: 5.0ms preprocess, 195.5ms inference, 4.0ms postprocess per image at shape (1, 3, 384, 640)\n",
      "Results saved to \u001b[1mruns\\detect\\predict14\u001b[0m\n",
      "\n"
     ]
    },
    {
     "name": "stdout",
     "output_type": "stream",
     "text": [
      "Data saved to ./runs/detect/predict/1.csv\n"
     ]
    },
    {
     "name": "stderr",
     "output_type": "stream",
     "text": [
      "image 1/1 d:\\Adobe\\Aithon\\Aithon\\All_Images\\2.jpg: 448x640 3 persons, 1 bed, 244.7ms\n",
      "Speed: 4.5ms preprocess, 244.7ms inference, 2.0ms postprocess per image at shape (1, 3, 448, 640)\n",
      "Results saved to \u001b[1mruns\\detect\\predict14\u001b[0m\n",
      "\n"
     ]
    },
    {
     "name": "stdout",
     "output_type": "stream",
     "text": [
      "Data saved to ./runs/detect/predict/2.csv\n"
     ]
    },
    {
     "name": "stderr",
     "output_type": "stream",
     "text": [
      "image 1/1 d:\\Adobe\\Aithon\\Aithon\\All_Images\\3.jpg: 448x640 3 persons, 297.9ms\n",
      "Speed: 8.1ms preprocess, 297.9ms inference, 3.5ms postprocess per image at shape (1, 3, 448, 640)\n",
      "Results saved to \u001b[1mruns\\detect\\predict14\u001b[0m\n",
      "\n"
     ]
    },
    {
     "name": "stdout",
     "output_type": "stream",
     "text": [
      "Data saved to ./runs/detect/predict/3.csv\n"
     ]
    },
    {
     "name": "stderr",
     "output_type": "stream",
     "text": [
      "image 1/1 d:\\Adobe\\Aithon\\Aithon\\All_Images\\AdobeStock_112814949.jpeg: 448x640 1 spoon, 1 bowl, 1 sandwich, 301.9ms\n",
      "Speed: 6.5ms preprocess, 301.9ms inference, 6.5ms postprocess per image at shape (1, 3, 448, 640)\n",
      "Results saved to \u001b[1mruns\\detect\\predict14\u001b[0m\n",
      "\n"
     ]
    },
    {
     "name": "stdout",
     "output_type": "stream",
     "text": [
      "Data saved to ./runs/detect/predict/AdobeStock_112814949.csv\n"
     ]
    },
    {
     "name": "stderr",
     "output_type": "stream",
     "text": [
      "image 1/1 d:\\Adobe\\Aithon\\Aithon\\All_Images\\AdobeStock_119085612.jpeg: 480x640 1 cup, 1 toothbrush, 257.6ms\n",
      "Speed: 6.1ms preprocess, 257.6ms inference, 3.6ms postprocess per image at shape (1, 3, 480, 640)\n",
      "Results saved to \u001b[1mruns\\detect\\predict14\u001b[0m\n",
      "\n"
     ]
    },
    {
     "name": "stdout",
     "output_type": "stream",
     "text": [
      "Data saved to ./runs/detect/predict/AdobeStock_119085612.csv\n"
     ]
    },
    {
     "name": "stderr",
     "output_type": "stream",
     "text": [
      "image 1/1 d:\\Adobe\\Aithon\\Aithon\\All_Images\\AdobeStock_189740072.jpeg: 448x640 1 person, 328.7ms\n",
      "Speed: 6.5ms preprocess, 328.7ms inference, 4.6ms postprocess per image at shape (1, 3, 448, 640)\n",
      "Results saved to \u001b[1mruns\\detect\\predict14\u001b[0m\n",
      "\n"
     ]
    },
    {
     "name": "stdout",
     "output_type": "stream",
     "text": [
      "Data saved to ./runs/detect/predict/AdobeStock_189740072.csv\n"
     ]
    },
    {
     "name": "stderr",
     "output_type": "stream",
     "text": [
      "image 1/1 d:\\Adobe\\Aithon\\Aithon\\All_Images\\AdobeStock_254640691.jpeg: 448x640 1 spoon, 4 bowls, 3 oranges, 1 dining table, 524.0ms\n",
      "Speed: 8.8ms preprocess, 524.0ms inference, 3.0ms postprocess per image at shape (1, 3, 448, 640)\n",
      "Results saved to \u001b[1mruns\\detect\\predict14\u001b[0m\n",
      "\n"
     ]
    },
    {
     "name": "stdout",
     "output_type": "stream",
     "text": [
      "Data saved to ./runs/detect/predict/AdobeStock_254640691.csv\n"
     ]
    },
    {
     "name": "stderr",
     "output_type": "stream",
     "text": [
      "image 1/1 d:\\Adobe\\Aithon\\Aithon\\All_Images\\AdobeStock_255497590.jpeg: 352x640 1 bowl, 267.4ms\n",
      "Speed: 7.6ms preprocess, 267.4ms inference, 5.2ms postprocess per image at shape (1, 3, 352, 640)\n",
      "Results saved to \u001b[1mruns\\detect\\predict14\u001b[0m\n",
      "\n"
     ]
    },
    {
     "name": "stdout",
     "output_type": "stream",
     "text": [
      "Data saved to ./runs/detect/predict/AdobeStock_255497590.csv\n"
     ]
    },
    {
     "name": "stderr",
     "output_type": "stream",
     "text": [
      "image 1/1 d:\\Adobe\\Aithon\\Aithon\\All_Images\\AdobeStock_257024669.jpeg: 448x640 1 suitcase, 274.2ms\n",
      "Speed: 7.0ms preprocess, 274.2ms inference, 5.6ms postprocess per image at shape (1, 3, 448, 640)\n",
      "Results saved to \u001b[1mruns\\detect\\predict14\u001b[0m\n",
      "\n"
     ]
    },
    {
     "name": "stdout",
     "output_type": "stream",
     "text": [
      "Data saved to ./runs/detect/predict/AdobeStock_257024669.csv\n"
     ]
    },
    {
     "name": "stderr",
     "output_type": "stream",
     "text": [
      "image 1/1 d:\\Adobe\\Aithon\\Aithon\\All_Images\\AdobeStock_286178925.jpeg: 448x640 5 bowls, 6 donuts, 1 cake, 1 dining table, 367.8ms\n",
      "Speed: 9.1ms preprocess, 367.8ms inference, 17.3ms postprocess per image at shape (1, 3, 448, 640)\n",
      "Results saved to \u001b[1mruns\\detect\\predict14\u001b[0m\n",
      "\n"
     ]
    },
    {
     "name": "stdout",
     "output_type": "stream",
     "text": [
      "Data saved to ./runs/detect/predict/AdobeStock_286178925.csv\n"
     ]
    },
    {
     "name": "stderr",
     "output_type": "stream",
     "text": [
      "image 1/1 d:\\Adobe\\Aithon\\Aithon\\All_Images\\AdobeStock_297274410.jpeg: 448x640 2 persons, 3 bowls, 1 dining table, 308.3ms\n",
      "Speed: 9.1ms preprocess, 308.3ms inference, 3.0ms postprocess per image at shape (1, 3, 448, 640)\n",
      "Results saved to \u001b[1mruns\\detect\\predict14\u001b[0m\n",
      "\n"
     ]
    },
    {
     "name": "stdout",
     "output_type": "stream",
     "text": [
      "Data saved to ./runs/detect/predict/AdobeStock_297274410.csv\n"
     ]
    },
    {
     "name": "stderr",
     "output_type": "stream",
     "text": [
      "image 1/1 d:\\Adobe\\Aithon\\Aithon\\All_Images\\AdobeStock_315333860.jpeg: 448x640 3 persons, 1 wine glass, 4 cups, 1 spoon, 1 bowl, 4 pizzas, 1 dining table, 323.0ms\n",
      "Speed: 6.8ms preprocess, 323.0ms inference, 4.0ms postprocess per image at shape (1, 3, 448, 640)\n",
      "Results saved to \u001b[1mruns\\detect\\predict14\u001b[0m\n",
      "\n"
     ]
    },
    {
     "name": "stdout",
     "output_type": "stream",
     "text": [
      "Data saved to ./runs/detect/predict/AdobeStock_315333860.csv\n"
     ]
    },
    {
     "name": "stderr",
     "output_type": "stream",
     "text": [
      "image 1/1 d:\\Adobe\\Aithon\\Aithon\\All_Images\\AdobeStock_321810820.jpeg: 384x640 5 persons, 1 skateboard, 371.9ms\n",
      "Speed: 8.1ms preprocess, 371.9ms inference, 3.5ms postprocess per image at shape (1, 3, 384, 640)\n",
      "Results saved to \u001b[1mruns\\detect\\predict14\u001b[0m\n",
      "\n"
     ]
    },
    {
     "name": "stdout",
     "output_type": "stream",
     "text": [
      "Data saved to ./runs/detect/predict/AdobeStock_321810820.csv\n"
     ]
    },
    {
     "name": "stderr",
     "output_type": "stream",
     "text": [
      "image 1/1 d:\\Adobe\\Aithon\\Aithon\\All_Images\\AdobeStock_323628715.jpeg: 448x640 7 persons, 2 cups, 1 bowl, 4 pizzas, 1 dining table, 347.2ms\n",
      "Speed: 10.2ms preprocess, 347.2ms inference, 9.1ms postprocess per image at shape (1, 3, 448, 640)\n",
      "Results saved to \u001b[1mruns\\detect\\predict14\u001b[0m\n",
      "\n"
     ]
    },
    {
     "name": "stdout",
     "output_type": "stream",
     "text": [
      "Data saved to ./runs/detect/predict/AdobeStock_323628715.csv\n"
     ]
    },
    {
     "name": "stderr",
     "output_type": "stream",
     "text": [
      "image 1/1 d:\\Adobe\\Aithon\\Aithon\\All_Images\\AdobeStock_349162891.jpeg: 608x640 1 sandwich, 413.7ms\n",
      "Speed: 13.6ms preprocess, 413.7ms inference, 4.5ms postprocess per image at shape (1, 3, 608, 640)\n",
      "Results saved to \u001b[1mruns\\detect\\predict14\u001b[0m\n",
      "\n"
     ]
    },
    {
     "name": "stdout",
     "output_type": "stream",
     "text": [
      "Data saved to ./runs/detect/predict/AdobeStock_349162891.csv\n"
     ]
    },
    {
     "name": "stderr",
     "output_type": "stream",
     "text": [
      "image 1/1 d:\\Adobe\\Aithon\\Aithon\\All_Images\\AdobeStock_425653713.jpeg: 448x640 1 handbag, 1 bowl, 1 potted plant, 1 bed, 1 laptop, 1 keyboard, 280.9ms\n",
      "Speed: 7.6ms preprocess, 280.9ms inference, 4.6ms postprocess per image at shape (1, 3, 448, 640)\n",
      "Results saved to \u001b[1mruns\\detect\\predict14\u001b[0m\n",
      "\n"
     ]
    },
    {
     "name": "stdout",
     "output_type": "stream",
     "text": [
      "Data saved to ./runs/detect/predict/AdobeStock_425653713.csv\n"
     ]
    },
    {
     "name": "stderr",
     "output_type": "stream",
     "text": [
      "image 1/1 d:\\Adobe\\Aithon\\Aithon\\All_Images\\AdobeStock_57849082.jpeg: 448x640 1 person, 2 pizzas, 1 dining table, 249.2ms\n",
      "Speed: 5.2ms preprocess, 249.2ms inference, 5.0ms postprocess per image at shape (1, 3, 448, 640)\n",
      "Results saved to \u001b[1mruns\\detect\\predict14\u001b[0m\n",
      "\n"
     ]
    },
    {
     "name": "stdout",
     "output_type": "stream",
     "text": [
      "Data saved to ./runs/detect/predict/AdobeStock_57849082.csv\n"
     ]
    },
    {
     "name": "stderr",
     "output_type": "stream",
     "text": [
      "image 1/1 d:\\Adobe\\Aithon\\Aithon\\All_Images\\AdobeStock_58143201.jpeg: 480x640 (no detections), 295.3ms\n",
      "Speed: 8.7ms preprocess, 295.3ms inference, 4.0ms postprocess per image at shape (1, 3, 480, 640)\n",
      "Results saved to \u001b[1mruns\\detect\\predict14\u001b[0m\n",
      "\n"
     ]
    },
    {
     "name": "stdout",
     "output_type": "stream",
     "text": [
      "Data saved to ./runs/detect/predict/AdobeStock_58143201.csv\n"
     ]
    },
    {
     "name": "stderr",
     "output_type": "stream",
     "text": [
      "image 1/1 d:\\Adobe\\Aithon\\Aithon\\All_Images\\AdobeStock_584637362.jpeg: 448x640 2 airplanes, 3 suitcases, 224.3ms\n",
      "Speed: 4.1ms preprocess, 224.3ms inference, 3.4ms postprocess per image at shape (1, 3, 448, 640)\n",
      "Results saved to \u001b[1mruns\\detect\\predict14\u001b[0m\n",
      "\n"
     ]
    },
    {
     "name": "stdout",
     "output_type": "stream",
     "text": [
      "Data saved to ./runs/detect/predict/AdobeStock_584637362.csv\n"
     ]
    },
    {
     "name": "stderr",
     "output_type": "stream",
     "text": [
      "image 1/1 d:\\Adobe\\Aithon\\Aithon\\All_Images\\AdobeStock_594853635.jpeg: 224x640 8 sandwichs, 201.5ms\n",
      "Speed: 2.0ms preprocess, 201.5ms inference, 5.0ms postprocess per image at shape (1, 3, 224, 640)\n",
      "Results saved to \u001b[1mruns\\detect\\predict14\u001b[0m\n",
      "\n"
     ]
    },
    {
     "name": "stdout",
     "output_type": "stream",
     "text": [
      "Data saved to ./runs/detect/predict/AdobeStock_594853635.csv\n"
     ]
    },
    {
     "name": "stderr",
     "output_type": "stream",
     "text": [
      "image 1/1 d:\\Adobe\\Aithon\\Aithon\\All_Images\\AdobeStock_608957878.jpeg: 448x640 2 persons, 2 toothbrushs, 359.5ms\n",
      "Speed: 7.2ms preprocess, 359.5ms inference, 4.5ms postprocess per image at shape (1, 3, 448, 640)\n",
      "Results saved to \u001b[1mruns\\detect\\predict14\u001b[0m\n",
      "\n"
     ]
    },
    {
     "name": "stdout",
     "output_type": "stream",
     "text": [
      "Data saved to ./runs/detect/predict/AdobeStock_608957878.csv\n"
     ]
    },
    {
     "name": "stderr",
     "output_type": "stream",
     "text": [
      "image 1/1 d:\\Adobe\\Aithon\\Aithon\\All_Images\\AdobeStock_618914535.jpeg: 480x640 2 sandwichs, 359.2ms\n",
      "Speed: 15.6ms preprocess, 359.2ms inference, 11.1ms postprocess per image at shape (1, 3, 480, 640)\n",
      "Results saved to \u001b[1mruns\\detect\\predict14\u001b[0m\n",
      "\n"
     ]
    },
    {
     "name": "stdout",
     "output_type": "stream",
     "text": [
      "Data saved to ./runs/detect/predict/AdobeStock_618914535.csv\n"
     ]
    },
    {
     "name": "stderr",
     "output_type": "stream",
     "text": [
      "image 1/1 d:\\Adobe\\Aithon\\Aithon\\All_Images\\AdobeStock_92669497.jpeg: 448x640 7 persons, 1 suitcase, 378.3ms\n",
      "Speed: 16.6ms preprocess, 378.3ms inference, 4.6ms postprocess per image at shape (1, 3, 448, 640)\n",
      "Results saved to \u001b[1mruns\\detect\\predict14\u001b[0m\n",
      "\n"
     ]
    },
    {
     "name": "stdout",
     "output_type": "stream",
     "text": [
      "Data saved to ./runs/detect/predict/AdobeStock_92669497.csv\n"
     ]
    },
    {
     "name": "stderr",
     "output_type": "stream",
     "text": [
      "image 1/1 d:\\Adobe\\Aithon\\Aithon\\All_Images\\AdobeStock_96284524.jpeg: 448x640 12 donuts, 263.2ms\n",
      "Speed: 6.1ms preprocess, 263.2ms inference, 5.4ms postprocess per image at shape (1, 3, 448, 640)\n",
      "Results saved to \u001b[1mruns\\detect\\predict14\u001b[0m\n",
      "\n"
     ]
    },
    {
     "name": "stdout",
     "output_type": "stream",
     "text": [
      "Data saved to ./runs/detect/predict/AdobeStock_96284524.csv\n"
     ]
    },
    {
     "name": "stderr",
     "output_type": "stream",
     "text": [
      "image 1/1 d:\\Adobe\\Aithon\\Aithon\\All_Images\\DL.jpeg: 384x640 1 bottle, 343.9ms\n",
      "Speed: 6.0ms preprocess, 343.9ms inference, 5.2ms postprocess per image at shape (1, 3, 384, 640)\n",
      "Results saved to \u001b[1mruns\\detect\\predict14\u001b[0m\n",
      "\n"
     ]
    },
    {
     "name": "stdout",
     "output_type": "stream",
     "text": [
      "Data saved to ./runs/detect/predict/DL.csv\n"
     ]
    },
    {
     "name": "stderr",
     "output_type": "stream",
     "text": [
      "image 1/1 d:\\Adobe\\Aithon\\Aithon\\All_Images\\maxresdefault.jpeg: 384x640 3 persons, 238.3ms\n",
      "Speed: 3.5ms preprocess, 238.3ms inference, 3.6ms postprocess per image at shape (1, 3, 384, 640)\n",
      "Results saved to \u001b[1mruns\\detect\\predict14\u001b[0m\n",
      "\n"
     ]
    },
    {
     "name": "stdout",
     "output_type": "stream",
     "text": [
      "Data saved to ./runs/detect/predict/maxresdefault.csv\n"
     ]
    },
    {
     "name": "stderr",
     "output_type": "stream",
     "text": [
      "image 1/1 d:\\Adobe\\Aithon\\Aithon\\All_Images\\Mist.jpeg: 448x640 1 tie, 249.3ms\n",
      "Speed: 9.1ms preprocess, 249.3ms inference, 3.6ms postprocess per image at shape (1, 3, 448, 640)\n",
      "Results saved to \u001b[1mruns\\detect\\predict14\u001b[0m\n",
      "\n"
     ]
    },
    {
     "name": "stdout",
     "output_type": "stream",
     "text": [
      "Data saved to ./runs/detect/predict/Mist.csv\n"
     ]
    },
    {
     "name": "stderr",
     "output_type": "stream",
     "text": [
      "image 1/1 d:\\Adobe\\Aithon\\Aithon\\All_Images\\1.jpg: 384x640 4 persons, 1 couch, 465.2ms\n",
      "Speed: 5.5ms preprocess, 465.2ms inference, 3.0ms postprocess per image at shape (1, 3, 384, 640)\n",
      "Results saved to \u001b[1mruns\\detect\\predict14\u001b[0m\n",
      "\n"
     ]
    },
    {
     "name": "stdout",
     "output_type": "stream",
     "text": [
      "Data saved to ./runs/detect/predict/1.csv\n"
     ]
    },
    {
     "name": "stderr",
     "output_type": "stream",
     "text": [
      "image 1/1 d:\\Adobe\\Aithon\\Aithon\\All_Images\\2.jpg: 448x640 3 persons, 1 bed, 681.0ms\n",
      "Speed: 9.6ms preprocess, 681.0ms inference, 10.0ms postprocess per image at shape (1, 3, 448, 640)\n",
      "Results saved to \u001b[1mruns\\detect\\predict14\u001b[0m\n",
      "\n"
     ]
    },
    {
     "name": "stdout",
     "output_type": "stream",
     "text": [
      "Data saved to ./runs/detect/predict/2.csv\n"
     ]
    },
    {
     "name": "stderr",
     "output_type": "stream",
     "text": [
      "image 1/1 d:\\Adobe\\Aithon\\Aithon\\All_Images\\3.jpg: 448x640 3 persons, 390.3ms\n",
      "Speed: 13.3ms preprocess, 390.3ms inference, 3.6ms postprocess per image at shape (1, 3, 448, 640)\n",
      "Results saved to \u001b[1mruns\\detect\\predict14\u001b[0m\n",
      "\n"
     ]
    },
    {
     "name": "stdout",
     "output_type": "stream",
     "text": [
      "Data saved to ./runs/detect/predict/3.csv\n"
     ]
    },
    {
     "name": "stderr",
     "output_type": "stream",
     "text": [
      "image 1/1 d:\\Adobe\\Aithon\\Aithon\\All_Images\\AdobeStock_112814949.jpeg: 448x640 1 spoon, 1 bowl, 1 sandwich, 583.6ms\n",
      "Speed: 11.1ms preprocess, 583.6ms inference, 5.0ms postprocess per image at shape (1, 3, 448, 640)\n",
      "Results saved to \u001b[1mruns\\detect\\predict14\u001b[0m\n",
      "\n"
     ]
    },
    {
     "name": "stdout",
     "output_type": "stream",
     "text": [
      "Data saved to ./runs/detect/predict/AdobeStock_112814949.csv\n"
     ]
    },
    {
     "name": "stderr",
     "output_type": "stream",
     "text": [
      "image 1/1 d:\\Adobe\\Aithon\\Aithon\\All_Images\\AdobeStock_119085612.jpeg: 480x640 1 cup, 1 toothbrush, 466.5ms\n",
      "Speed: 30.2ms preprocess, 466.5ms inference, 17.2ms postprocess per image at shape (1, 3, 480, 640)\n",
      "Results saved to \u001b[1mruns\\detect\\predict14\u001b[0m\n",
      "\n"
     ]
    },
    {
     "name": "stdout",
     "output_type": "stream",
     "text": [
      "Data saved to ./runs/detect/predict/AdobeStock_119085612.csv\n"
     ]
    },
    {
     "name": "stderr",
     "output_type": "stream",
     "text": [
      "image 1/1 d:\\Adobe\\Aithon\\Aithon\\All_Images\\AdobeStock_189740072.jpeg: 448x640 1 person, 360.7ms\n",
      "Speed: 11.0ms preprocess, 360.7ms inference, 3.0ms postprocess per image at shape (1, 3, 448, 640)\n",
      "Results saved to \u001b[1mruns\\detect\\predict14\u001b[0m\n",
      "\n"
     ]
    },
    {
     "name": "stdout",
     "output_type": "stream",
     "text": [
      "Data saved to ./runs/detect/predict/AdobeStock_189740072.csv\n"
     ]
    },
    {
     "name": "stderr",
     "output_type": "stream",
     "text": [
      "image 1/1 d:\\Adobe\\Aithon\\Aithon\\All_Images\\AdobeStock_254640691.jpeg: 448x640 1 spoon, 4 bowls, 3 oranges, 1 dining table, 587.9ms\n",
      "Speed: 9.6ms preprocess, 587.9ms inference, 4.5ms postprocess per image at shape (1, 3, 448, 640)\n",
      "Results saved to \u001b[1mruns\\detect\\predict14\u001b[0m\n",
      "\n"
     ]
    },
    {
     "name": "stdout",
     "output_type": "stream",
     "text": [
      "Data saved to ./runs/detect/predict/AdobeStock_254640691.csv\n"
     ]
    },
    {
     "name": "stderr",
     "output_type": "stream",
     "text": [
      "image 1/1 d:\\Adobe\\Aithon\\Aithon\\All_Images\\AdobeStock_255497590.jpeg: 352x640 1 bowl, 234.4ms\n",
      "Speed: 6.1ms preprocess, 234.4ms inference, 4.6ms postprocess per image at shape (1, 3, 352, 640)\n",
      "Results saved to \u001b[1mruns\\detect\\predict14\u001b[0m\n",
      "\n"
     ]
    },
    {
     "name": "stdout",
     "output_type": "stream",
     "text": [
      "Data saved to ./runs/detect/predict/AdobeStock_255497590.csv\n"
     ]
    },
    {
     "name": "stderr",
     "output_type": "stream",
     "text": [
      "image 1/1 d:\\Adobe\\Aithon\\Aithon\\All_Images\\AdobeStock_257024669.jpeg: 448x640 1 suitcase, 729.2ms\n",
      "Speed: 7.1ms preprocess, 729.2ms inference, 4.0ms postprocess per image at shape (1, 3, 448, 640)\n",
      "Results saved to \u001b[1mruns\\detect\\predict14\u001b[0m\n",
      "\n"
     ]
    },
    {
     "name": "stdout",
     "output_type": "stream",
     "text": [
      "Data saved to ./runs/detect/predict/AdobeStock_257024669.csv\n"
     ]
    },
    {
     "name": "stderr",
     "output_type": "stream",
     "text": [
      "image 1/1 d:\\Adobe\\Aithon\\Aithon\\All_Images\\AdobeStock_286178925.jpeg: 448x640 5 bowls, 6 donuts, 1 cake, 1 dining table, 378.1ms\n",
      "Speed: 11.3ms preprocess, 378.1ms inference, 8.6ms postprocess per image at shape (1, 3, 448, 640)\n",
      "Results saved to \u001b[1mruns\\detect\\predict14\u001b[0m\n",
      "\n"
     ]
    },
    {
     "name": "stdout",
     "output_type": "stream",
     "text": [
      "Data saved to ./runs/detect/predict/AdobeStock_286178925.csv\n"
     ]
    },
    {
     "name": "stderr",
     "output_type": "stream",
     "text": [
      "image 1/1 d:\\Adobe\\Aithon\\Aithon\\All_Images\\AdobeStock_297274410.jpeg: 448x640 2 persons, 3 bowls, 1 dining table, 646.7ms\n",
      "Speed: 17.2ms preprocess, 646.7ms inference, 4.2ms postprocess per image at shape (1, 3, 448, 640)\n",
      "Results saved to \u001b[1mruns\\detect\\predict14\u001b[0m\n",
      "\n"
     ]
    },
    {
     "name": "stdout",
     "output_type": "stream",
     "text": [
      "Data saved to ./runs/detect/predict/AdobeStock_297274410.csv\n"
     ]
    },
    {
     "name": "stderr",
     "output_type": "stream",
     "text": [
      "image 1/1 d:\\Adobe\\Aithon\\Aithon\\All_Images\\AdobeStock_315333860.jpeg: 448x640 3 persons, 1 wine glass, 4 cups, 1 spoon, 1 bowl, 4 pizzas, 1 dining table, 689.3ms\n",
      "Speed: 15.0ms preprocess, 689.3ms inference, 6.2ms postprocess per image at shape (1, 3, 448, 640)\n",
      "Results saved to \u001b[1mruns\\detect\\predict14\u001b[0m\n",
      "\n"
     ]
    },
    {
     "name": "stdout",
     "output_type": "stream",
     "text": [
      "Data saved to ./runs/detect/predict/AdobeStock_315333860.csv\n"
     ]
    },
    {
     "name": "stderr",
     "output_type": "stream",
     "text": [
      "image 1/1 d:\\Adobe\\Aithon\\Aithon\\All_Images\\AdobeStock_321810820.jpeg: 384x640 5 persons, 1 skateboard, 308.4ms\n",
      "Speed: 8.3ms preprocess, 308.4ms inference, 6.5ms postprocess per image at shape (1, 3, 384, 640)\n",
      "Results saved to \u001b[1mruns\\detect\\predict14\u001b[0m\n",
      "\n"
     ]
    },
    {
     "name": "stdout",
     "output_type": "stream",
     "text": [
      "Data saved to ./runs/detect/predict/AdobeStock_321810820.csv\n"
     ]
    },
    {
     "name": "stderr",
     "output_type": "stream",
     "text": [
      "image 1/1 d:\\Adobe\\Aithon\\Aithon\\All_Images\\AdobeStock_323628715.jpeg: 448x640 7 persons, 2 cups, 1 bowl, 4 pizzas, 1 dining table, 464.8ms\n",
      "Speed: 6.5ms preprocess, 464.8ms inference, 5.5ms postprocess per image at shape (1, 3, 448, 640)\n",
      "Results saved to \u001b[1mruns\\detect\\predict14\u001b[0m\n",
      "\n"
     ]
    },
    {
     "name": "stdout",
     "output_type": "stream",
     "text": [
      "Data saved to ./runs/detect/predict/AdobeStock_323628715.csv\n"
     ]
    },
    {
     "name": "stderr",
     "output_type": "stream",
     "text": [
      "image 1/1 d:\\Adobe\\Aithon\\Aithon\\All_Images\\AdobeStock_349162891.jpeg: 608x640 1 sandwich, 307.0ms\n",
      "Speed: 6.6ms preprocess, 307.0ms inference, 4.0ms postprocess per image at shape (1, 3, 608, 640)\n",
      "Results saved to \u001b[1mruns\\detect\\predict14\u001b[0m\n",
      "\n"
     ]
    },
    {
     "name": "stdout",
     "output_type": "stream",
     "text": [
      "Data saved to ./runs/detect/predict/AdobeStock_349162891.csv\n"
     ]
    },
    {
     "name": "stderr",
     "output_type": "stream",
     "text": [
      "image 1/1 d:\\Adobe\\Aithon\\Aithon\\All_Images\\AdobeStock_425653713.jpeg: 448x640 1 handbag, 1 bowl, 1 potted plant, 1 bed, 1 laptop, 1 keyboard, 425.9ms\n",
      "Speed: 22.1ms preprocess, 425.9ms inference, 4.5ms postprocess per image at shape (1, 3, 448, 640)\n",
      "Results saved to \u001b[1mruns\\detect\\predict14\u001b[0m\n",
      "\n"
     ]
    },
    {
     "name": "stdout",
     "output_type": "stream",
     "text": [
      "Data saved to ./runs/detect/predict/AdobeStock_425653713.csv\n"
     ]
    },
    {
     "name": "stderr",
     "output_type": "stream",
     "text": [
      "image 1/1 d:\\Adobe\\Aithon\\Aithon\\All_Images\\AdobeStock_57849082.jpeg: 448x640 1 person, 2 pizzas, 1 dining table, 649.0ms\n",
      "Speed: 32.8ms preprocess, 649.0ms inference, 11.1ms postprocess per image at shape (1, 3, 448, 640)\n",
      "Results saved to \u001b[1mruns\\detect\\predict14\u001b[0m\n",
      "\n"
     ]
    },
    {
     "name": "stdout",
     "output_type": "stream",
     "text": [
      "Data saved to ./runs/detect/predict/AdobeStock_57849082.csv\n"
     ]
    },
    {
     "name": "stderr",
     "output_type": "stream",
     "text": [
      "image 1/1 d:\\Adobe\\Aithon\\Aithon\\All_Images\\AdobeStock_58143201.jpeg: 480x640 (no detections), 404.8ms\n",
      "Speed: 9.0ms preprocess, 404.8ms inference, 2.5ms postprocess per image at shape (1, 3, 480, 640)\n",
      "Results saved to \u001b[1mruns\\detect\\predict14\u001b[0m\n",
      "\n"
     ]
    },
    {
     "name": "stdout",
     "output_type": "stream",
     "text": [
      "Data saved to ./runs/detect/predict/AdobeStock_58143201.csv\n"
     ]
    },
    {
     "name": "stderr",
     "output_type": "stream",
     "text": [
      "image 1/1 d:\\Adobe\\Aithon\\Aithon\\All_Images\\AdobeStock_584637362.jpeg: 448x640 2 airplanes, 3 suitcases, 294.0ms\n",
      "Speed: 14.1ms preprocess, 294.0ms inference, 3.6ms postprocess per image at shape (1, 3, 448, 640)\n",
      "Results saved to \u001b[1mruns\\detect\\predict14\u001b[0m\n",
      "\n"
     ]
    },
    {
     "name": "stdout",
     "output_type": "stream",
     "text": [
      "Data saved to ./runs/detect/predict/AdobeStock_584637362.csv\n"
     ]
    },
    {
     "name": "stderr",
     "output_type": "stream",
     "text": [
      "image 1/1 d:\\Adobe\\Aithon\\Aithon\\All_Images\\AdobeStock_594853635.jpeg: 224x640 8 sandwichs, 295.1ms\n",
      "Speed: 5.0ms preprocess, 295.1ms inference, 2.0ms postprocess per image at shape (1, 3, 224, 640)\n",
      "Results saved to \u001b[1mruns\\detect\\predict14\u001b[0m\n",
      "\n"
     ]
    },
    {
     "name": "stdout",
     "output_type": "stream",
     "text": [
      "Data saved to ./runs/detect/predict/AdobeStock_594853635.csv\n"
     ]
    },
    {
     "name": "stderr",
     "output_type": "stream",
     "text": [
      "image 1/1 d:\\Adobe\\Aithon\\Aithon\\All_Images\\AdobeStock_608957878.jpeg: 448x640 2 persons, 2 toothbrushs, 326.4ms\n",
      "Speed: 9.6ms preprocess, 326.4ms inference, 4.5ms postprocess per image at shape (1, 3, 448, 640)\n",
      "Results saved to \u001b[1mruns\\detect\\predict14\u001b[0m\n",
      "\n"
     ]
    },
    {
     "name": "stdout",
     "output_type": "stream",
     "text": [
      "Data saved to ./runs/detect/predict/AdobeStock_608957878.csv\n"
     ]
    },
    {
     "name": "stderr",
     "output_type": "stream",
     "text": [
      "image 1/1 d:\\Adobe\\Aithon\\Aithon\\All_Images\\AdobeStock_618914535.jpeg: 480x640 2 sandwichs, 331.6ms\n",
      "Speed: 10.6ms preprocess, 331.6ms inference, 3.5ms postprocess per image at shape (1, 3, 480, 640)\n",
      "Results saved to \u001b[1mruns\\detect\\predict14\u001b[0m\n",
      "\n"
     ]
    },
    {
     "name": "stdout",
     "output_type": "stream",
     "text": [
      "Data saved to ./runs/detect/predict/AdobeStock_618914535.csv\n"
     ]
    },
    {
     "name": "stderr",
     "output_type": "stream",
     "text": [
      "image 1/1 d:\\Adobe\\Aithon\\Aithon\\All_Images\\AdobeStock_92669497.jpeg: 448x640 7 persons, 1 suitcase, 358.8ms\n",
      "Speed: 8.6ms preprocess, 358.8ms inference, 5.0ms postprocess per image at shape (1, 3, 448, 640)\n",
      "Results saved to \u001b[1mruns\\detect\\predict14\u001b[0m\n",
      "\n"
     ]
    },
    {
     "name": "stdout",
     "output_type": "stream",
     "text": [
      "Data saved to ./runs/detect/predict/AdobeStock_92669497.csv\n"
     ]
    },
    {
     "name": "stderr",
     "output_type": "stream",
     "text": [
      "image 1/1 d:\\Adobe\\Aithon\\Aithon\\All_Images\\AdobeStock_96284524.jpeg: 448x640 12 donuts, 340.7ms\n",
      "Speed: 12.1ms preprocess, 340.7ms inference, 9.1ms postprocess per image at shape (1, 3, 448, 640)\n",
      "Results saved to \u001b[1mruns\\detect\\predict14\u001b[0m\n",
      "\n"
     ]
    },
    {
     "name": "stdout",
     "output_type": "stream",
     "text": [
      "Data saved to ./runs/detect/predict/AdobeStock_96284524.csv\n"
     ]
    },
    {
     "name": "stderr",
     "output_type": "stream",
     "text": [
      "image 1/1 d:\\Adobe\\Aithon\\Aithon\\All_Images\\DL.jpeg: 384x640 1 bottle, 313.8ms\n",
      "Speed: 5.6ms preprocess, 313.8ms inference, 4.5ms postprocess per image at shape (1, 3, 384, 640)\n",
      "Results saved to \u001b[1mruns\\detect\\predict14\u001b[0m\n",
      "\n"
     ]
    },
    {
     "name": "stdout",
     "output_type": "stream",
     "text": [
      "Data saved to ./runs/detect/predict/DL.csv\n"
     ]
    },
    {
     "name": "stderr",
     "output_type": "stream",
     "text": [
      "image 1/1 d:\\Adobe\\Aithon\\Aithon\\All_Images\\maxresdefault.jpeg: 384x640 3 persons, 304.7ms\n",
      "Speed: 4.6ms preprocess, 304.7ms inference, 4.6ms postprocess per image at shape (1, 3, 384, 640)\n",
      "Results saved to \u001b[1mruns\\detect\\predict14\u001b[0m\n",
      "\n"
     ]
    },
    {
     "name": "stdout",
     "output_type": "stream",
     "text": [
      "Data saved to ./runs/detect/predict/maxresdefault.csv\n"
     ]
    },
    {
     "name": "stderr",
     "output_type": "stream",
     "text": [
      "image 1/1 d:\\Adobe\\Aithon\\Aithon\\All_Images\\Mist.jpeg: 448x640 1 tie, 335.2ms\n",
      "Speed: 7.7ms preprocess, 335.2ms inference, 5.6ms postprocess per image at shape (1, 3, 448, 640)\n",
      "Results saved to \u001b[1mruns\\detect\\predict14\u001b[0m\n",
      "\n"
     ]
    },
    {
     "name": "stdout",
     "output_type": "stream",
     "text": [
      "Data saved to ./runs/detect/predict/Mist.csv\n"
     ]
    },
    {
     "name": "stderr",
     "output_type": "stream",
     "text": [
      "image 1/1 d:\\Adobe\\Aithon\\Aithon\\All_Images\\1.jpg: 384x640 4 persons, 1 couch, 373.6ms\n",
      "Speed: 5.5ms preprocess, 373.6ms inference, 9.4ms postprocess per image at shape (1, 3, 384, 640)\n",
      "Results saved to \u001b[1mruns\\detect\\predict14\u001b[0m\n",
      "\n"
     ]
    },
    {
     "name": "stdout",
     "output_type": "stream",
     "text": [
      "Data saved to ./runs/detect/predict/1.csv\n"
     ]
    },
    {
     "name": "stderr",
     "output_type": "stream",
     "text": [
      "image 1/1 d:\\Adobe\\Aithon\\Aithon\\All_Images\\2.jpg: 448x640 3 persons, 1 bed, 363.7ms\n",
      "Speed: 5.1ms preprocess, 363.7ms inference, 3.5ms postprocess per image at shape (1, 3, 448, 640)\n",
      "Results saved to \u001b[1mruns\\detect\\predict14\u001b[0m\n",
      "\n"
     ]
    },
    {
     "name": "stdout",
     "output_type": "stream",
     "text": [
      "Data saved to ./runs/detect/predict/2.csv\n"
     ]
    },
    {
     "name": "stderr",
     "output_type": "stream",
     "text": [
      "image 1/1 d:\\Adobe\\Aithon\\Aithon\\All_Images\\3.jpg: 448x640 3 persons, 364.8ms\n",
      "Speed: 6.6ms preprocess, 364.8ms inference, 5.0ms postprocess per image at shape (1, 3, 448, 640)\n",
      "Results saved to \u001b[1mruns\\detect\\predict14\u001b[0m\n",
      "\n"
     ]
    },
    {
     "name": "stdout",
     "output_type": "stream",
     "text": [
      "Data saved to ./runs/detect/predict/3.csv\n"
     ]
    },
    {
     "name": "stderr",
     "output_type": "stream",
     "text": [
      "image 1/1 d:\\Adobe\\Aithon\\Aithon\\All_Images\\AdobeStock_112814949.jpeg: 448x640 1 spoon, 1 bowl, 1 sandwich, 485.5ms\n",
      "Speed: 6.1ms preprocess, 485.5ms inference, 3.6ms postprocess per image at shape (1, 3, 448, 640)\n",
      "Results saved to \u001b[1mruns\\detect\\predict14\u001b[0m\n",
      "\n"
     ]
    },
    {
     "name": "stdout",
     "output_type": "stream",
     "text": [
      "Data saved to ./runs/detect/predict/AdobeStock_112814949.csv\n"
     ]
    },
    {
     "name": "stderr",
     "output_type": "stream",
     "text": [
      "image 1/1 d:\\Adobe\\Aithon\\Aithon\\All_Images\\AdobeStock_119085612.jpeg: 480x640 1 cup, 1 toothbrush, 451.7ms\n",
      "Speed: 11.3ms preprocess, 451.7ms inference, 9.4ms postprocess per image at shape (1, 3, 480, 640)\n",
      "Results saved to \u001b[1mruns\\detect\\predict14\u001b[0m\n",
      "\n"
     ]
    },
    {
     "name": "stdout",
     "output_type": "stream",
     "text": [
      "Data saved to ./runs/detect/predict/AdobeStock_119085612.csv\n"
     ]
    },
    {
     "name": "stderr",
     "output_type": "stream",
     "text": [
      "image 1/1 d:\\Adobe\\Aithon\\Aithon\\All_Images\\AdobeStock_189740072.jpeg: 448x640 1 person, 361.2ms\n",
      "Speed: 13.0ms preprocess, 361.2ms inference, 4.9ms postprocess per image at shape (1, 3, 448, 640)\n",
      "Results saved to \u001b[1mruns\\detect\\predict14\u001b[0m\n",
      "\n"
     ]
    },
    {
     "name": "stdout",
     "output_type": "stream",
     "text": [
      "Data saved to ./runs/detect/predict/AdobeStock_189740072.csv\n"
     ]
    },
    {
     "name": "stderr",
     "output_type": "stream",
     "text": [
      "image 1/1 d:\\Adobe\\Aithon\\Aithon\\All_Images\\AdobeStock_254640691.jpeg: 448x640 1 spoon, 4 bowls, 3 oranges, 1 dining table, 379.3ms\n",
      "Speed: 6.1ms preprocess, 379.3ms inference, 4.5ms postprocess per image at shape (1, 3, 448, 640)\n",
      "Results saved to \u001b[1mruns\\detect\\predict14\u001b[0m\n",
      "\n"
     ]
    },
    {
     "name": "stdout",
     "output_type": "stream",
     "text": [
      "Data saved to ./runs/detect/predict/AdobeStock_254640691.csv\n"
     ]
    },
    {
     "name": "stderr",
     "output_type": "stream",
     "text": [
      "image 1/1 d:\\Adobe\\Aithon\\Aithon\\All_Images\\AdobeStock_255497590.jpeg: 352x640 1 bowl, 278.2ms\n",
      "Speed: 9.2ms preprocess, 278.2ms inference, 4.5ms postprocess per image at shape (1, 3, 352, 640)\n",
      "Results saved to \u001b[1mruns\\detect\\predict14\u001b[0m\n",
      "\n"
     ]
    },
    {
     "name": "stdout",
     "output_type": "stream",
     "text": [
      "Data saved to ./runs/detect/predict/AdobeStock_255497590.csv\n"
     ]
    },
    {
     "name": "stderr",
     "output_type": "stream",
     "text": [
      "image 1/1 d:\\Adobe\\Aithon\\Aithon\\All_Images\\AdobeStock_257024669.jpeg: 448x640 1 suitcase, 403.6ms\n",
      "Speed: 11.2ms preprocess, 403.6ms inference, 6.6ms postprocess per image at shape (1, 3, 448, 640)\n",
      "Results saved to \u001b[1mruns\\detect\\predict14\u001b[0m\n",
      "\n"
     ]
    },
    {
     "name": "stdout",
     "output_type": "stream",
     "text": [
      "Data saved to ./runs/detect/predict/AdobeStock_257024669.csv\n"
     ]
    },
    {
     "name": "stderr",
     "output_type": "stream",
     "text": [
      "image 1/1 d:\\Adobe\\Aithon\\Aithon\\All_Images\\AdobeStock_286178925.jpeg: 448x640 5 bowls, 6 donuts, 1 cake, 1 dining table, 315.8ms\n",
      "Speed: 4.0ms preprocess, 315.8ms inference, 3.5ms postprocess per image at shape (1, 3, 448, 640)\n",
      "Results saved to \u001b[1mruns\\detect\\predict14\u001b[0m\n",
      "\n"
     ]
    },
    {
     "name": "stdout",
     "output_type": "stream",
     "text": [
      "Data saved to ./runs/detect/predict/AdobeStock_286178925.csv\n"
     ]
    },
    {
     "name": "stderr",
     "output_type": "stream",
     "text": [
      "image 1/1 d:\\Adobe\\Aithon\\Aithon\\All_Images\\AdobeStock_297274410.jpeg: 448x640 2 persons, 3 bowls, 1 dining table, 334.9ms\n",
      "Speed: 10.7ms preprocess, 334.9ms inference, 7.7ms postprocess per image at shape (1, 3, 448, 640)\n",
      "Results saved to \u001b[1mruns\\detect\\predict14\u001b[0m\n",
      "\n"
     ]
    },
    {
     "name": "stdout",
     "output_type": "stream",
     "text": [
      "Data saved to ./runs/detect/predict/AdobeStock_297274410.csv\n"
     ]
    },
    {
     "name": "stderr",
     "output_type": "stream",
     "text": [
      "image 1/1 d:\\Adobe\\Aithon\\Aithon\\All_Images\\AdobeStock_315333860.jpeg: 448x640 3 persons, 1 wine glass, 4 cups, 1 spoon, 1 bowl, 4 pizzas, 1 dining table, 327.6ms\n",
      "Speed: 8.1ms preprocess, 327.6ms inference, 5.6ms postprocess per image at shape (1, 3, 448, 640)\n",
      "Results saved to \u001b[1mruns\\detect\\predict14\u001b[0m\n",
      "\n"
     ]
    },
    {
     "name": "stdout",
     "output_type": "stream",
     "text": [
      "Data saved to ./runs/detect/predict/AdobeStock_315333860.csv\n"
     ]
    },
    {
     "name": "stderr",
     "output_type": "stream",
     "text": [
      "image 1/1 d:\\Adobe\\Aithon\\Aithon\\All_Images\\AdobeStock_321810820.jpeg: 384x640 5 persons, 1 skateboard, 292.6ms\n",
      "Speed: 7.1ms preprocess, 292.6ms inference, 4.7ms postprocess per image at shape (1, 3, 384, 640)\n",
      "Results saved to \u001b[1mruns\\detect\\predict14\u001b[0m\n",
      "\n"
     ]
    },
    {
     "name": "stdout",
     "output_type": "stream",
     "text": [
      "Data saved to ./runs/detect/predict/AdobeStock_321810820.csv\n"
     ]
    },
    {
     "name": "stderr",
     "output_type": "stream",
     "text": [
      "image 1/1 d:\\Adobe\\Aithon\\Aithon\\All_Images\\AdobeStock_323628715.jpeg: 448x640 7 persons, 2 cups, 1 bowl, 4 pizzas, 1 dining table, 488.6ms\n",
      "Speed: 6.7ms preprocess, 488.6ms inference, 5.9ms postprocess per image at shape (1, 3, 448, 640)\n",
      "Results saved to \u001b[1mruns\\detect\\predict14\u001b[0m\n",
      "\n"
     ]
    },
    {
     "name": "stdout",
     "output_type": "stream",
     "text": [
      "Data saved to ./runs/detect/predict/AdobeStock_323628715.csv\n"
     ]
    },
    {
     "name": "stderr",
     "output_type": "stream",
     "text": [
      "image 1/1 d:\\Adobe\\Aithon\\Aithon\\All_Images\\AdobeStock_349162891.jpeg: 608x640 1 sandwich, 348.1ms\n",
      "Speed: 11.8ms preprocess, 348.1ms inference, 3.5ms postprocess per image at shape (1, 3, 608, 640)\n",
      "Results saved to \u001b[1mruns\\detect\\predict14\u001b[0m\n",
      "\n"
     ]
    },
    {
     "name": "stdout",
     "output_type": "stream",
     "text": [
      "Data saved to ./runs/detect/predict/AdobeStock_349162891.csv\n"
     ]
    },
    {
     "name": "stderr",
     "output_type": "stream",
     "text": [
      "image 1/1 d:\\Adobe\\Aithon\\Aithon\\All_Images\\AdobeStock_425653713.jpeg: 448x640 1 handbag, 1 bowl, 1 potted plant, 1 bed, 1 laptop, 1 keyboard, 453.8ms\n",
      "Speed: 8.9ms preprocess, 453.8ms inference, 5.6ms postprocess per image at shape (1, 3, 448, 640)\n",
      "Results saved to \u001b[1mruns\\detect\\predict14\u001b[0m\n",
      "\n"
     ]
    },
    {
     "name": "stdout",
     "output_type": "stream",
     "text": [
      "Data saved to ./runs/detect/predict/AdobeStock_425653713.csv\n"
     ]
    },
    {
     "name": "stderr",
     "output_type": "stream",
     "text": [
      "image 1/1 d:\\Adobe\\Aithon\\Aithon\\All_Images\\AdobeStock_57849082.jpeg: 448x640 1 person, 2 pizzas, 1 dining table, 423.4ms\n",
      "Speed: 9.3ms preprocess, 423.4ms inference, 6.5ms postprocess per image at shape (1, 3, 448, 640)\n",
      "Results saved to \u001b[1mruns\\detect\\predict14\u001b[0m\n",
      "\n"
     ]
    },
    {
     "name": "stdout",
     "output_type": "stream",
     "text": [
      "Data saved to ./runs/detect/predict/AdobeStock_57849082.csv\n"
     ]
    },
    {
     "name": "stderr",
     "output_type": "stream",
     "text": [
      "image 1/1 d:\\Adobe\\Aithon\\Aithon\\All_Images\\AdobeStock_58143201.jpeg: 480x640 (no detections), 518.4ms\n",
      "Speed: 12.1ms preprocess, 518.4ms inference, 3.5ms postprocess per image at shape (1, 3, 480, 640)\n",
      "Results saved to \u001b[1mruns\\detect\\predict14\u001b[0m\n",
      "\n"
     ]
    },
    {
     "name": "stdout",
     "output_type": "stream",
     "text": [
      "Data saved to ./runs/detect/predict/AdobeStock_58143201.csv\n"
     ]
    },
    {
     "name": "stderr",
     "output_type": "stream",
     "text": [
      "image 1/1 d:\\Adobe\\Aithon\\Aithon\\All_Images\\AdobeStock_584637362.jpeg: 448x640 2 airplanes, 3 suitcases, 353.2ms\n",
      "Speed: 13.5ms preprocess, 353.2ms inference, 34.1ms postprocess per image at shape (1, 3, 448, 640)\n",
      "Results saved to \u001b[1mruns\\detect\\predict14\u001b[0m\n",
      "\n"
     ]
    },
    {
     "name": "stdout",
     "output_type": "stream",
     "text": [
      "Data saved to ./runs/detect/predict/AdobeStock_584637362.csv\n"
     ]
    },
    {
     "name": "stderr",
     "output_type": "stream",
     "text": [
      "image 1/1 d:\\Adobe\\Aithon\\Aithon\\All_Images\\AdobeStock_594853635.jpeg: 224x640 8 sandwichs, 468.7ms\n",
      "Speed: 5.2ms preprocess, 468.7ms inference, 3.5ms postprocess per image at shape (1, 3, 224, 640)\n",
      "Results saved to \u001b[1mruns\\detect\\predict14\u001b[0m\n",
      "\n"
     ]
    },
    {
     "name": "stdout",
     "output_type": "stream",
     "text": [
      "Data saved to ./runs/detect/predict/AdobeStock_594853635.csv\n"
     ]
    },
    {
     "name": "stderr",
     "output_type": "stream",
     "text": [
      "image 1/1 d:\\Adobe\\Aithon\\Aithon\\All_Images\\AdobeStock_608957878.jpeg: 448x640 2 persons, 2 toothbrushs, 584.6ms\n",
      "Speed: 15.3ms preprocess, 584.6ms inference, 7.1ms postprocess per image at shape (1, 3, 448, 640)\n",
      "Results saved to \u001b[1mruns\\detect\\predict14\u001b[0m\n",
      "\n"
     ]
    },
    {
     "name": "stdout",
     "output_type": "stream",
     "text": [
      "Data saved to ./runs/detect/predict/AdobeStock_608957878.csv\n"
     ]
    },
    {
     "name": "stderr",
     "output_type": "stream",
     "text": [
      "image 1/1 d:\\Adobe\\Aithon\\Aithon\\All_Images\\AdobeStock_618914535.jpeg: 480x640 2 sandwichs, 397.7ms\n",
      "Speed: 18.0ms preprocess, 397.7ms inference, 4.5ms postprocess per image at shape (1, 3, 480, 640)\n",
      "Results saved to \u001b[1mruns\\detect\\predict14\u001b[0m\n",
      "\n"
     ]
    },
    {
     "name": "stdout",
     "output_type": "stream",
     "text": [
      "Data saved to ./runs/detect/predict/AdobeStock_618914535.csv\n"
     ]
    },
    {
     "name": "stderr",
     "output_type": "stream",
     "text": [
      "image 1/1 d:\\Adobe\\Aithon\\Aithon\\All_Images\\AdobeStock_92669497.jpeg: 448x640 7 persons, 1 suitcase, 450.3ms\n",
      "Speed: 12.5ms preprocess, 450.3ms inference, 5.0ms postprocess per image at shape (1, 3, 448, 640)\n",
      "Results saved to \u001b[1mruns\\detect\\predict14\u001b[0m\n",
      "\n"
     ]
    },
    {
     "name": "stdout",
     "output_type": "stream",
     "text": [
      "Data saved to ./runs/detect/predict/AdobeStock_92669497.csv\n"
     ]
    },
    {
     "name": "stderr",
     "output_type": "stream",
     "text": [
      "image 1/1 d:\\Adobe\\Aithon\\Aithon\\All_Images\\AdobeStock_96284524.jpeg: 448x640 12 donuts, 458.6ms\n",
      "Speed: 71.2ms preprocess, 458.6ms inference, 4.7ms postprocess per image at shape (1, 3, 448, 640)\n",
      "Results saved to \u001b[1mruns\\detect\\predict14\u001b[0m\n",
      "\n"
     ]
    },
    {
     "name": "stdout",
     "output_type": "stream",
     "text": [
      "Data saved to ./runs/detect/predict/AdobeStock_96284524.csv\n"
     ]
    },
    {
     "name": "stderr",
     "output_type": "stream",
     "text": [
      "image 1/1 d:\\Adobe\\Aithon\\Aithon\\All_Images\\DL.jpeg: 384x640 1 bottle, 433.0ms\n",
      "Speed: 12.0ms preprocess, 433.0ms inference, 7.1ms postprocess per image at shape (1, 3, 384, 640)\n",
      "Results saved to \u001b[1mruns\\detect\\predict14\u001b[0m\n",
      "\n"
     ]
    },
    {
     "name": "stdout",
     "output_type": "stream",
     "text": [
      "Data saved to ./runs/detect/predict/DL.csv\n"
     ]
    },
    {
     "name": "stderr",
     "output_type": "stream",
     "text": [
      "image 1/1 d:\\Adobe\\Aithon\\Aithon\\All_Images\\maxresdefault.jpeg: 384x640 3 persons, 680.6ms\n",
      "Speed: 13.5ms preprocess, 680.6ms inference, 4.0ms postprocess per image at shape (1, 3, 384, 640)\n",
      "Results saved to \u001b[1mruns\\detect\\predict14\u001b[0m\n",
      "\n"
     ]
    },
    {
     "name": "stdout",
     "output_type": "stream",
     "text": [
      "Data saved to ./runs/detect/predict/maxresdefault.csv\n"
     ]
    },
    {
     "name": "stderr",
     "output_type": "stream",
     "text": [
      "image 1/1 d:\\Adobe\\Aithon\\Aithon\\All_Images\\Mist.jpeg: 448x640 1 tie, 418.8ms\n",
      "Speed: 7.2ms preprocess, 418.8ms inference, 7.7ms postprocess per image at shape (1, 3, 448, 640)\n",
      "Results saved to \u001b[1mruns\\detect\\predict14\u001b[0m\n",
      "\n"
     ]
    },
    {
     "name": "stdout",
     "output_type": "stream",
     "text": [
      "Data saved to ./runs/detect/predict/Mist.csv\n"
     ]
    },
    {
     "name": "stderr",
     "output_type": "stream",
     "text": [
      "image 1/1 d:\\Adobe\\Aithon\\Aithon\\All_Images\\1.jpg: 384x640 4 persons, 1 couch, 355.3ms\n",
      "Speed: 34.4ms preprocess, 355.3ms inference, 7.0ms postprocess per image at shape (1, 3, 384, 640)\n",
      "Results saved to \u001b[1mruns\\detect\\predict14\u001b[0m\n",
      "\n"
     ]
    },
    {
     "name": "stdout",
     "output_type": "stream",
     "text": [
      "Data saved to ./runs/detect/predict/1.csv\n"
     ]
    },
    {
     "name": "stderr",
     "output_type": "stream",
     "text": [
      "image 1/1 d:\\Adobe\\Aithon\\Aithon\\All_Images\\2.jpg: 448x640 3 persons, 1 bed, 520.1ms\n",
      "Speed: 10.1ms preprocess, 520.1ms inference, 6.0ms postprocess per image at shape (1, 3, 448, 640)\n",
      "Results saved to \u001b[1mruns\\detect\\predict14\u001b[0m\n",
      "\n"
     ]
    },
    {
     "name": "stdout",
     "output_type": "stream",
     "text": [
      "Data saved to ./runs/detect/predict/2.csv\n"
     ]
    },
    {
     "name": "stderr",
     "output_type": "stream",
     "text": [
      "image 1/1 d:\\Adobe\\Aithon\\Aithon\\All_Images\\3.jpg: 448x640 3 persons, 462.3ms\n",
      "Speed: 19.3ms preprocess, 462.3ms inference, 4.6ms postprocess per image at shape (1, 3, 448, 640)\n",
      "Results saved to \u001b[1mruns\\detect\\predict14\u001b[0m\n",
      "\n"
     ]
    },
    {
     "name": "stdout",
     "output_type": "stream",
     "text": [
      "Data saved to ./runs/detect/predict/3.csv\n"
     ]
    },
    {
     "name": "stderr",
     "output_type": "stream",
     "text": [
      "image 1/1 d:\\Adobe\\Aithon\\Aithon\\All_Images\\AdobeStock_112814949.jpeg: 448x640 1 spoon, 1 bowl, 1 sandwich, 356.1ms\n",
      "Speed: 7.6ms preprocess, 356.1ms inference, 4.7ms postprocess per image at shape (1, 3, 448, 640)\n",
      "Results saved to \u001b[1mruns\\detect\\predict14\u001b[0m\n",
      "\n"
     ]
    },
    {
     "name": "stdout",
     "output_type": "stream",
     "text": [
      "Data saved to ./runs/detect/predict/AdobeStock_112814949.csv\n"
     ]
    },
    {
     "name": "stderr",
     "output_type": "stream",
     "text": [
      "image 1/1 d:\\Adobe\\Aithon\\Aithon\\All_Images\\AdobeStock_119085612.jpeg: 480x640 1 cup, 1 toothbrush, 446.9ms\n",
      "Speed: 10.7ms preprocess, 446.9ms inference, 4.6ms postprocess per image at shape (1, 3, 480, 640)\n",
      "Results saved to \u001b[1mruns\\detect\\predict14\u001b[0m\n",
      "\n"
     ]
    },
    {
     "name": "stdout",
     "output_type": "stream",
     "text": [
      "Data saved to ./runs/detect/predict/AdobeStock_119085612.csv\n"
     ]
    },
    {
     "name": "stderr",
     "output_type": "stream",
     "text": [
      "image 1/1 d:\\Adobe\\Aithon\\Aithon\\All_Images\\AdobeStock_189740072.jpeg: 448x640 1 person, 496.3ms\n",
      "Speed: 8.1ms preprocess, 496.3ms inference, 8.2ms postprocess per image at shape (1, 3, 448, 640)\n",
      "Results saved to \u001b[1mruns\\detect\\predict14\u001b[0m\n",
      "\n"
     ]
    },
    {
     "name": "stdout",
     "output_type": "stream",
     "text": [
      "Data saved to ./runs/detect/predict/AdobeStock_189740072.csv\n"
     ]
    },
    {
     "name": "stderr",
     "output_type": "stream",
     "text": [
      "image 1/1 d:\\Adobe\\Aithon\\Aithon\\All_Images\\AdobeStock_254640691.jpeg: 448x640 1 spoon, 4 bowls, 3 oranges, 1 dining table, 425.4ms\n",
      "Speed: 6.4ms preprocess, 425.4ms inference, 5.0ms postprocess per image at shape (1, 3, 448, 640)\n",
      "Results saved to \u001b[1mruns\\detect\\predict14\u001b[0m\n",
      "\n"
     ]
    },
    {
     "name": "stdout",
     "output_type": "stream",
     "text": [
      "Data saved to ./runs/detect/predict/AdobeStock_254640691.csv\n"
     ]
    },
    {
     "name": "stderr",
     "output_type": "stream",
     "text": [
      "image 1/1 d:\\Adobe\\Aithon\\Aithon\\All_Images\\AdobeStock_255497590.jpeg: 352x640 1 bowl, 371.6ms\n",
      "Speed: 9.5ms preprocess, 371.6ms inference, 5.1ms postprocess per image at shape (1, 3, 352, 640)\n",
      "Results saved to \u001b[1mruns\\detect\\predict14\u001b[0m\n",
      "\n"
     ]
    },
    {
     "name": "stdout",
     "output_type": "stream",
     "text": [
      "Data saved to ./runs/detect/predict/AdobeStock_255497590.csv\n"
     ]
    },
    {
     "name": "stderr",
     "output_type": "stream",
     "text": [
      "image 1/1 d:\\Adobe\\Aithon\\Aithon\\All_Images\\AdobeStock_257024669.jpeg: 448x640 1 suitcase, 459.8ms\n",
      "Speed: 11.1ms preprocess, 459.8ms inference, 8.1ms postprocess per image at shape (1, 3, 448, 640)\n",
      "Results saved to \u001b[1mruns\\detect\\predict14\u001b[0m\n",
      "\n"
     ]
    },
    {
     "name": "stdout",
     "output_type": "stream",
     "text": [
      "Data saved to ./runs/detect/predict/AdobeStock_257024669.csv\n"
     ]
    },
    {
     "name": "stderr",
     "output_type": "stream",
     "text": [
      "image 1/1 d:\\Adobe\\Aithon\\Aithon\\All_Images\\AdobeStock_286178925.jpeg: 448x640 5 bowls, 6 donuts, 1 cake, 1 dining table, 370.5ms\n",
      "Speed: 13.7ms preprocess, 370.5ms inference, 4.6ms postprocess per image at shape (1, 3, 448, 640)\n",
      "Results saved to \u001b[1mruns\\detect\\predict14\u001b[0m\n",
      "\n"
     ]
    },
    {
     "name": "stdout",
     "output_type": "stream",
     "text": [
      "Data saved to ./runs/detect/predict/AdobeStock_286178925.csv\n"
     ]
    },
    {
     "name": "stderr",
     "output_type": "stream",
     "text": [
      "image 1/1 d:\\Adobe\\Aithon\\Aithon\\All_Images\\AdobeStock_297274410.jpeg: 448x640 2 persons, 3 bowls, 1 dining table, 473.9ms\n",
      "Speed: 7.6ms preprocess, 473.9ms inference, 3.5ms postprocess per image at shape (1, 3, 448, 640)\n",
      "Results saved to \u001b[1mruns\\detect\\predict14\u001b[0m\n",
      "\n"
     ]
    },
    {
     "name": "stdout",
     "output_type": "stream",
     "text": [
      "Data saved to ./runs/detect/predict/AdobeStock_297274410.csv\n"
     ]
    },
    {
     "name": "stderr",
     "output_type": "stream",
     "text": [
      "image 1/1 d:\\Adobe\\Aithon\\Aithon\\All_Images\\AdobeStock_315333860.jpeg: 448x640 3 persons, 1 wine glass, 4 cups, 1 spoon, 1 bowl, 4 pizzas, 1 dining table, 388.3ms\n",
      "Speed: 11.1ms preprocess, 388.3ms inference, 7.7ms postprocess per image at shape (1, 3, 448, 640)\n",
      "Results saved to \u001b[1mruns\\detect\\predict14\u001b[0m\n",
      "\n"
     ]
    },
    {
     "name": "stdout",
     "output_type": "stream",
     "text": [
      "Data saved to ./runs/detect/predict/AdobeStock_315333860.csv\n"
     ]
    },
    {
     "name": "stderr",
     "output_type": "stream",
     "text": [
      "image 1/1 d:\\Adobe\\Aithon\\Aithon\\All_Images\\AdobeStock_321810820.jpeg: 384x640 5 persons, 1 skateboard, 596.1ms\n",
      "Speed: 23.9ms preprocess, 596.1ms inference, 4.1ms postprocess per image at shape (1, 3, 384, 640)\n",
      "Results saved to \u001b[1mruns\\detect\\predict14\u001b[0m\n",
      "\n"
     ]
    },
    {
     "name": "stdout",
     "output_type": "stream",
     "text": [
      "Data saved to ./runs/detect/predict/AdobeStock_321810820.csv\n"
     ]
    },
    {
     "name": "stderr",
     "output_type": "stream",
     "text": [
      "image 1/1 d:\\Adobe\\Aithon\\Aithon\\All_Images\\AdobeStock_323628715.jpeg: 448x640 7 persons, 2 cups, 1 bowl, 4 pizzas, 1 dining table, 512.6ms\n",
      "Speed: 6.6ms preprocess, 512.6ms inference, 6.6ms postprocess per image at shape (1, 3, 448, 640)\n",
      "Results saved to \u001b[1mruns\\detect\\predict14\u001b[0m\n",
      "\n"
     ]
    },
    {
     "name": "stdout",
     "output_type": "stream",
     "text": [
      "Data saved to ./runs/detect/predict/AdobeStock_323628715.csv\n"
     ]
    },
    {
     "name": "stderr",
     "output_type": "stream",
     "text": [
      "image 1/1 d:\\Adobe\\Aithon\\Aithon\\All_Images\\AdobeStock_349162891.jpeg: 608x640 1 sandwich, 312.5ms\n",
      "Speed: 7.6ms preprocess, 312.5ms inference, 4.6ms postprocess per image at shape (1, 3, 608, 640)\n",
      "Results saved to \u001b[1mruns\\detect\\predict14\u001b[0m\n",
      "\n"
     ]
    },
    {
     "name": "stdout",
     "output_type": "stream",
     "text": [
      "Data saved to ./runs/detect/predict/AdobeStock_349162891.csv\n"
     ]
    },
    {
     "name": "stderr",
     "output_type": "stream",
     "text": [
      "image 1/1 d:\\Adobe\\Aithon\\Aithon\\All_Images\\AdobeStock_425653713.jpeg: 448x640 1 handbag, 1 bowl, 1 potted plant, 1 bed, 1 laptop, 1 keyboard, 548.7ms\n",
      "Speed: 21.1ms preprocess, 548.7ms inference, 4.6ms postprocess per image at shape (1, 3, 448, 640)\n",
      "Results saved to \u001b[1mruns\\detect\\predict14\u001b[0m\n",
      "\n"
     ]
    },
    {
     "name": "stdout",
     "output_type": "stream",
     "text": [
      "Data saved to ./runs/detect/predict/AdobeStock_425653713.csv\n"
     ]
    },
    {
     "name": "stderr",
     "output_type": "stream",
     "text": [
      "image 1/1 d:\\Adobe\\Aithon\\Aithon\\All_Images\\AdobeStock_57849082.jpeg: 448x640 1 person, 2 pizzas, 1 dining table, 598.8ms\n",
      "Speed: 16.8ms preprocess, 598.8ms inference, 4.0ms postprocess per image at shape (1, 3, 448, 640)\n",
      "Results saved to \u001b[1mruns\\detect\\predict14\u001b[0m\n",
      "\n"
     ]
    },
    {
     "name": "stdout",
     "output_type": "stream",
     "text": [
      "Data saved to ./runs/detect/predict/AdobeStock_57849082.csv\n"
     ]
    },
    {
     "name": "stderr",
     "output_type": "stream",
     "text": [
      "image 1/1 d:\\Adobe\\Aithon\\Aithon\\All_Images\\AdobeStock_58143201.jpeg: 480x640 (no detections), 412.3ms\n",
      "Speed: 7.5ms preprocess, 412.3ms inference, 11.5ms postprocess per image at shape (1, 3, 480, 640)\n",
      "Results saved to \u001b[1mruns\\detect\\predict14\u001b[0m\n",
      "\n"
     ]
    },
    {
     "name": "stdout",
     "output_type": "stream",
     "text": [
      "Data saved to ./runs/detect/predict/AdobeStock_58143201.csv\n"
     ]
    },
    {
     "name": "stderr",
     "output_type": "stream",
     "text": [
      "image 1/1 d:\\Adobe\\Aithon\\Aithon\\All_Images\\AdobeStock_584637362.jpeg: 448x640 2 airplanes, 3 suitcases, 492.0ms\n",
      "Speed: 17.4ms preprocess, 492.0ms inference, 4.0ms postprocess per image at shape (1, 3, 448, 640)\n",
      "Results saved to \u001b[1mruns\\detect\\predict14\u001b[0m\n",
      "\n"
     ]
    },
    {
     "name": "stdout",
     "output_type": "stream",
     "text": [
      "Data saved to ./runs/detect/predict/AdobeStock_584637362.csv\n"
     ]
    },
    {
     "name": "stderr",
     "output_type": "stream",
     "text": [
      "image 1/1 d:\\Adobe\\Aithon\\Aithon\\All_Images\\AdobeStock_594853635.jpeg: 224x640 8 sandwichs, 501.1ms\n",
      "Speed: 6.0ms preprocess, 501.1ms inference, 4.5ms postprocess per image at shape (1, 3, 224, 640)\n",
      "Results saved to \u001b[1mruns\\detect\\predict14\u001b[0m\n",
      "\n"
     ]
    },
    {
     "name": "stdout",
     "output_type": "stream",
     "text": [
      "Data saved to ./runs/detect/predict/AdobeStock_594853635.csv\n"
     ]
    },
    {
     "name": "stderr",
     "output_type": "stream",
     "text": [
      "image 1/1 d:\\Adobe\\Aithon\\Aithon\\All_Images\\AdobeStock_608957878.jpeg: 448x640 2 persons, 2 toothbrushs, 333.6ms\n",
      "Speed: 7.3ms preprocess, 333.6ms inference, 7.1ms postprocess per image at shape (1, 3, 448, 640)\n",
      "Results saved to \u001b[1mruns\\detect\\predict14\u001b[0m\n",
      "\n"
     ]
    },
    {
     "name": "stdout",
     "output_type": "stream",
     "text": [
      "Data saved to ./runs/detect/predict/AdobeStock_608957878.csv\n"
     ]
    },
    {
     "name": "stderr",
     "output_type": "stream",
     "text": [
      "image 1/1 d:\\Adobe\\Aithon\\Aithon\\All_Images\\AdobeStock_618914535.jpeg: 480x640 2 sandwichs, 365.0ms\n",
      "Speed: 19.6ms preprocess, 365.0ms inference, 5.1ms postprocess per image at shape (1, 3, 480, 640)\n",
      "Results saved to \u001b[1mruns\\detect\\predict14\u001b[0m\n",
      "\n"
     ]
    },
    {
     "name": "stdout",
     "output_type": "stream",
     "text": [
      "Data saved to ./runs/detect/predict/AdobeStock_618914535.csv\n"
     ]
    },
    {
     "name": "stderr",
     "output_type": "stream",
     "text": [
      "image 1/1 d:\\Adobe\\Aithon\\Aithon\\All_Images\\AdobeStock_92669497.jpeg: 448x640 7 persons, 1 suitcase, 463.9ms\n",
      "Speed: 14.5ms preprocess, 463.9ms inference, 32.9ms postprocess per image at shape (1, 3, 448, 640)\n",
      "Results saved to \u001b[1mruns\\detect\\predict14\u001b[0m\n",
      "\n"
     ]
    },
    {
     "name": "stdout",
     "output_type": "stream",
     "text": [
      "Data saved to ./runs/detect/predict/AdobeStock_92669497.csv\n"
     ]
    },
    {
     "name": "stderr",
     "output_type": "stream",
     "text": [
      "image 1/1 d:\\Adobe\\Aithon\\Aithon\\All_Images\\AdobeStock_96284524.jpeg: 448x640 12 donuts, 403.2ms\n",
      "Speed: 16.4ms preprocess, 403.2ms inference, 8.6ms postprocess per image at shape (1, 3, 448, 640)\n",
      "Results saved to \u001b[1mruns\\detect\\predict14\u001b[0m\n",
      "\n"
     ]
    },
    {
     "name": "stdout",
     "output_type": "stream",
     "text": [
      "Data saved to ./runs/detect/predict/AdobeStock_96284524.csv\n"
     ]
    },
    {
     "name": "stderr",
     "output_type": "stream",
     "text": [
      "image 1/1 d:\\Adobe\\Aithon\\Aithon\\All_Images\\DL.jpeg: 384x640 1 bottle, 425.4ms\n",
      "Speed: 9.0ms preprocess, 425.4ms inference, 4.1ms postprocess per image at shape (1, 3, 384, 640)\n",
      "Results saved to \u001b[1mruns\\detect\\predict14\u001b[0m\n",
      "\n"
     ]
    },
    {
     "name": "stdout",
     "output_type": "stream",
     "text": [
      "Data saved to ./runs/detect/predict/DL.csv\n"
     ]
    },
    {
     "name": "stderr",
     "output_type": "stream",
     "text": [
      "image 1/1 d:\\Adobe\\Aithon\\Aithon\\All_Images\\maxresdefault.jpeg: 384x640 3 persons, 371.5ms\n",
      "Speed: 7.1ms preprocess, 371.5ms inference, 4.6ms postprocess per image at shape (1, 3, 384, 640)\n",
      "Results saved to \u001b[1mruns\\detect\\predict14\u001b[0m\n",
      "\n"
     ]
    },
    {
     "name": "stdout",
     "output_type": "stream",
     "text": [
      "Data saved to ./runs/detect/predict/maxresdefault.csv\n"
     ]
    },
    {
     "name": "stderr",
     "output_type": "stream",
     "text": [
      "image 1/1 d:\\Adobe\\Aithon\\Aithon\\All_Images\\Mist.jpeg: 448x640 1 tie, 446.9ms\n",
      "Speed: 21.1ms preprocess, 446.9ms inference, 3.5ms postprocess per image at shape (1, 3, 448, 640)\n",
      "Results saved to \u001b[1mruns\\detect\\predict14\u001b[0m\n",
      "\n"
     ]
    },
    {
     "name": "stdout",
     "output_type": "stream",
     "text": [
      "Data saved to ./runs/detect/predict/Mist.csv\n"
     ]
    },
    {
     "name": "stderr",
     "output_type": "stream",
     "text": [
      "image 1/1 d:\\Adobe\\Aithon\\Aithon\\All_Images\\1.jpg: 384x640 4 persons, 1 couch, 231.1ms\n",
      "Speed: 7.6ms preprocess, 231.1ms inference, 3.6ms postprocess per image at shape (1, 3, 384, 640)\n",
      "Results saved to \u001b[1mruns\\detect\\predict14\u001b[0m\n",
      "\n"
     ]
    },
    {
     "name": "stdout",
     "output_type": "stream",
     "text": [
      "Data saved to ./runs/detect/predict/1.csv\n"
     ]
    },
    {
     "ename": "KeyboardInterrupt",
     "evalue": "",
     "output_type": "error",
     "traceback": [
      "\u001b[1;31m---------------------------------------------------------------------------\u001b[0m",
      "\u001b[1;31mKeyboardInterrupt\u001b[0m                         Traceback (most recent call last)",
      "Cell \u001b[1;32mIn[1], line 69\u001b[0m\n\u001b[0;32m     67\u001b[0m \u001b[39m#6\u001b[39;00m\n\u001b[0;32m     68\u001b[0m \u001b[39mif\u001b[39;00m \u001b[39m__name__\u001b[39m \u001b[39m==\u001b[39m \u001b[39m\"\u001b[39m\u001b[39m__main__\u001b[39m\u001b[39m\"\u001b[39m:\n\u001b[1;32m---> 69\u001b[0m     detect_Segments()\n",
      "Cell \u001b[1;32mIn[1], line 32\u001b[0m, in \u001b[0;36mdetect_Segments\u001b[1;34m()\u001b[0m\n\u001b[0;32m     29\u001b[0m     counts, total_objects \u001b[39m=\u001b[39m count_Entities(results)\n\u001b[0;32m     30\u001b[0m     write_to_CSV(i, counts, total_objects)\n\u001b[1;32m---> 32\u001b[0m \u001b[39mreturn\u001b[39;00m detect_Segments()\n",
      "Cell \u001b[1;32mIn[1], line 32\u001b[0m, in \u001b[0;36mdetect_Segments\u001b[1;34m()\u001b[0m\n\u001b[0;32m     29\u001b[0m     counts, total_objects \u001b[39m=\u001b[39m count_Entities(results)\n\u001b[0;32m     30\u001b[0m     write_to_CSV(i, counts, total_objects)\n\u001b[1;32m---> 32\u001b[0m \u001b[39mreturn\u001b[39;00m detect_Segments()\n",
      "    \u001b[1;31m[... skipping similar frames: detect_Segments at line 32 (3 times)]\u001b[0m\n",
      "Cell \u001b[1;32mIn[1], line 32\u001b[0m, in \u001b[0;36mdetect_Segments\u001b[1;34m()\u001b[0m\n\u001b[0;32m     29\u001b[0m     counts, total_objects \u001b[39m=\u001b[39m count_Entities(results)\n\u001b[0;32m     30\u001b[0m     write_to_CSV(i, counts, total_objects)\n\u001b[1;32m---> 32\u001b[0m \u001b[39mreturn\u001b[39;00m detect_Segments()\n",
      "Cell \u001b[1;32mIn[1], line 28\u001b[0m, in \u001b[0;36mdetect_Segments\u001b[1;34m()\u001b[0m\n\u001b[0;32m     26\u001b[0m \u001b[39mfor\u001b[39;00m i \u001b[39min\u001b[39;00m files_in_folder:\n\u001b[0;32m     27\u001b[0m     path \u001b[39m=\u001b[39m \u001b[39mf\u001b[39m\u001b[39m'\u001b[39m\u001b[39m./All_Images/\u001b[39m\u001b[39m{\u001b[39;00mi\u001b[39m}\u001b[39;00m\u001b[39m'\u001b[39m\n\u001b[1;32m---> 28\u001b[0m     results \u001b[39m=\u001b[39m model\u001b[39m.\u001b[39;49mpredict(path, save\u001b[39m=\u001b[39;49m\u001b[39mTrue\u001b[39;49;00m)\n\u001b[0;32m     29\u001b[0m     counts, total_objects \u001b[39m=\u001b[39m count_Entities(results)\n\u001b[0;32m     30\u001b[0m     write_to_CSV(i, counts, total_objects)\n",
      "File \u001b[1;32m~\\AppData\\Roaming\\Python\\Python311\\site-packages\\torch\\utils\\_contextlib.py:115\u001b[0m, in \u001b[0;36mcontext_decorator.<locals>.decorate_context\u001b[1;34m(*args, **kwargs)\u001b[0m\n\u001b[0;32m    112\u001b[0m \u001b[39m@functools\u001b[39m\u001b[39m.\u001b[39mwraps(func)\n\u001b[0;32m    113\u001b[0m \u001b[39mdef\u001b[39;00m \u001b[39mdecorate_context\u001b[39m(\u001b[39m*\u001b[39margs, \u001b[39m*\u001b[39m\u001b[39m*\u001b[39mkwargs):\n\u001b[0;32m    114\u001b[0m     \u001b[39mwith\u001b[39;00m ctx_factory():\n\u001b[1;32m--> 115\u001b[0m         \u001b[39mreturn\u001b[39;00m func(\u001b[39m*\u001b[39;49margs, \u001b[39m*\u001b[39;49m\u001b[39m*\u001b[39;49mkwargs)\n",
      "File \u001b[1;32m~\\AppData\\Roaming\\Python\\Python311\\site-packages\\ultralytics\\engine\\model.py:246\u001b[0m, in \u001b[0;36mModel.predict\u001b[1;34m(self, source, stream, predictor, **kwargs)\u001b[0m\n\u001b[0;32m    244\u001b[0m \u001b[39mif\u001b[39;00m \u001b[39mlen\u001b[39m \u001b[39mand\u001b[39;00m \u001b[39mhasattr\u001b[39m(\u001b[39mself\u001b[39m\u001b[39m.\u001b[39mpredictor, \u001b[39m'\u001b[39m\u001b[39mset_prompts\u001b[39m\u001b[39m'\u001b[39m):\n\u001b[0;32m    245\u001b[0m     \u001b[39mself\u001b[39m\u001b[39m.\u001b[39mpredictor\u001b[39m.\u001b[39mset_prompts(prompts)\n\u001b[1;32m--> 246\u001b[0m \u001b[39mreturn\u001b[39;00m \u001b[39mself\u001b[39m\u001b[39m.\u001b[39mpredictor\u001b[39m.\u001b[39mpredict_cli(source\u001b[39m=\u001b[39msource) \u001b[39mif\u001b[39;00m is_cli \u001b[39melse\u001b[39;00m \u001b[39mself\u001b[39;49m\u001b[39m.\u001b[39;49mpredictor(source\u001b[39m=\u001b[39;49msource, stream\u001b[39m=\u001b[39;49mstream)\n",
      "File \u001b[1;32m~\\AppData\\Roaming\\Python\\Python311\\site-packages\\ultralytics\\engine\\predictor.py:197\u001b[0m, in \u001b[0;36mBasePredictor.__call__\u001b[1;34m(self, source, model, stream, *args, **kwargs)\u001b[0m\n\u001b[0;32m    195\u001b[0m     \u001b[39mreturn\u001b[39;00m \u001b[39mself\u001b[39m\u001b[39m.\u001b[39mstream_inference(source, model, \u001b[39m*\u001b[39margs, \u001b[39m*\u001b[39m\u001b[39m*\u001b[39mkwargs)\n\u001b[0;32m    196\u001b[0m \u001b[39melse\u001b[39;00m:\n\u001b[1;32m--> 197\u001b[0m     \u001b[39mreturn\u001b[39;00m \u001b[39mlist\u001b[39m(\u001b[39mself\u001b[39m\u001b[39m.\u001b[39mstream_inference(source, model, \u001b[39m*\u001b[39margs, \u001b[39m*\u001b[39m\u001b[39m*\u001b[39mkwargs))\n",
      "File \u001b[1;32m~\\AppData\\Roaming\\Python\\Python311\\site-packages\\torch\\utils\\_contextlib.py:35\u001b[0m, in \u001b[0;36m_wrap_generator.<locals>.generator_context\u001b[1;34m(*args, **kwargs)\u001b[0m\n\u001b[0;32m     32\u001b[0m \u001b[39mtry\u001b[39;00m:\n\u001b[0;32m     33\u001b[0m     \u001b[39m# Issuing `None` to a generator fires it up\u001b[39;00m\n\u001b[0;32m     34\u001b[0m     \u001b[39mwith\u001b[39;00m ctx_factory():\n\u001b[1;32m---> 35\u001b[0m         response \u001b[39m=\u001b[39m gen\u001b[39m.\u001b[39msend(\u001b[39mNone\u001b[39;00m)\n\u001b[0;32m     37\u001b[0m     \u001b[39mwhile\u001b[39;00m \u001b[39mTrue\u001b[39;00m:\n\u001b[0;32m     38\u001b[0m         \u001b[39mtry\u001b[39;00m:\n\u001b[0;32m     39\u001b[0m             \u001b[39m# Forward the response to our caller and get its next request\u001b[39;00m\n",
      "File \u001b[1;32m~\\AppData\\Roaming\\Python\\Python311\\site-packages\\ultralytics\\engine\\predictor.py:253\u001b[0m, in \u001b[0;36mBasePredictor.stream_inference\u001b[1;34m(self, source, model, *args, **kwargs)\u001b[0m\n\u001b[0;32m    251\u001b[0m \u001b[39m# Inference\u001b[39;00m\n\u001b[0;32m    252\u001b[0m \u001b[39mwith\u001b[39;00m profilers[\u001b[39m1\u001b[39m]:\n\u001b[1;32m--> 253\u001b[0m     preds \u001b[39m=\u001b[39m \u001b[39mself\u001b[39;49m\u001b[39m.\u001b[39;49minference(im, \u001b[39m*\u001b[39;49margs, \u001b[39m*\u001b[39;49m\u001b[39m*\u001b[39;49mkwargs)\n\u001b[0;32m    255\u001b[0m \u001b[39m# Postprocess\u001b[39;00m\n\u001b[0;32m    256\u001b[0m \u001b[39mwith\u001b[39;00m profilers[\u001b[39m2\u001b[39m]:\n",
      "File \u001b[1;32m~\\AppData\\Roaming\\Python\\Python311\\site-packages\\ultralytics\\engine\\predictor.py:138\u001b[0m, in \u001b[0;36mBasePredictor.inference\u001b[1;34m(self, im, *args, **kwargs)\u001b[0m\n\u001b[0;32m    135\u001b[0m \u001b[39mdef\u001b[39;00m \u001b[39minference\u001b[39m(\u001b[39mself\u001b[39m, im, \u001b[39m*\u001b[39margs, \u001b[39m*\u001b[39m\u001b[39m*\u001b[39mkwargs):\n\u001b[0;32m    136\u001b[0m     visualize \u001b[39m=\u001b[39m increment_path(\u001b[39mself\u001b[39m\u001b[39m.\u001b[39msave_dir \u001b[39m/\u001b[39m Path(\u001b[39mself\u001b[39m\u001b[39m.\u001b[39mbatch[\u001b[39m0\u001b[39m][\u001b[39m0\u001b[39m])\u001b[39m.\u001b[39mstem,\n\u001b[0;32m    137\u001b[0m                                mkdir\u001b[39m=\u001b[39m\u001b[39mTrue\u001b[39;00m) \u001b[39mif\u001b[39;00m \u001b[39mself\u001b[39m\u001b[39m.\u001b[39margs\u001b[39m.\u001b[39mvisualize \u001b[39mand\u001b[39;00m (\u001b[39mnot\u001b[39;00m \u001b[39mself\u001b[39m\u001b[39m.\u001b[39msource_type\u001b[39m.\u001b[39mtensor) \u001b[39melse\u001b[39;00m \u001b[39mFalse\u001b[39;00m\n\u001b[1;32m--> 138\u001b[0m     \u001b[39mreturn\u001b[39;00m \u001b[39mself\u001b[39;49m\u001b[39m.\u001b[39;49mmodel(im, augment\u001b[39m=\u001b[39;49m\u001b[39mself\u001b[39;49m\u001b[39m.\u001b[39;49margs\u001b[39m.\u001b[39;49maugment, visualize\u001b[39m=\u001b[39;49mvisualize)\n",
      "File \u001b[1;32m~\\AppData\\Roaming\\Python\\Python311\\site-packages\\torch\\nn\\modules\\module.py:1501\u001b[0m, in \u001b[0;36mModule._call_impl\u001b[1;34m(self, *args, **kwargs)\u001b[0m\n\u001b[0;32m   1496\u001b[0m \u001b[39m# If we don't have any hooks, we want to skip the rest of the logic in\u001b[39;00m\n\u001b[0;32m   1497\u001b[0m \u001b[39m# this function, and just call forward.\u001b[39;00m\n\u001b[0;32m   1498\u001b[0m \u001b[39mif\u001b[39;00m \u001b[39mnot\u001b[39;00m (\u001b[39mself\u001b[39m\u001b[39m.\u001b[39m_backward_hooks \u001b[39mor\u001b[39;00m \u001b[39mself\u001b[39m\u001b[39m.\u001b[39m_backward_pre_hooks \u001b[39mor\u001b[39;00m \u001b[39mself\u001b[39m\u001b[39m.\u001b[39m_forward_hooks \u001b[39mor\u001b[39;00m \u001b[39mself\u001b[39m\u001b[39m.\u001b[39m_forward_pre_hooks\n\u001b[0;32m   1499\u001b[0m         \u001b[39mor\u001b[39;00m _global_backward_pre_hooks \u001b[39mor\u001b[39;00m _global_backward_hooks\n\u001b[0;32m   1500\u001b[0m         \u001b[39mor\u001b[39;00m _global_forward_hooks \u001b[39mor\u001b[39;00m _global_forward_pre_hooks):\n\u001b[1;32m-> 1501\u001b[0m     \u001b[39mreturn\u001b[39;00m forward_call(\u001b[39m*\u001b[39;49margs, \u001b[39m*\u001b[39;49m\u001b[39m*\u001b[39;49mkwargs)\n\u001b[0;32m   1502\u001b[0m \u001b[39m# Do not call functions when jit is used\u001b[39;00m\n\u001b[0;32m   1503\u001b[0m full_backward_hooks, non_full_backward_hooks \u001b[39m=\u001b[39m [], []\n",
      "File \u001b[1;32m~\\AppData\\Roaming\\Python\\Python311\\site-packages\\ultralytics\\nn\\autobackend.py:334\u001b[0m, in \u001b[0;36mAutoBackend.forward\u001b[1;34m(self, im, augment, visualize)\u001b[0m\n\u001b[0;32m    331\u001b[0m     im \u001b[39m=\u001b[39m im\u001b[39m.\u001b[39mpermute(\u001b[39m0\u001b[39m, \u001b[39m2\u001b[39m, \u001b[39m3\u001b[39m, \u001b[39m1\u001b[39m)  \u001b[39m# torch BCHW to numpy BHWC shape(1,320,192,3)\u001b[39;00m\n\u001b[0;32m    333\u001b[0m \u001b[39mif\u001b[39;00m \u001b[39mself\u001b[39m\u001b[39m.\u001b[39mpt \u001b[39mor\u001b[39;00m \u001b[39mself\u001b[39m\u001b[39m.\u001b[39mnn_module:  \u001b[39m# PyTorch\u001b[39;00m\n\u001b[1;32m--> 334\u001b[0m     y \u001b[39m=\u001b[39m \u001b[39mself\u001b[39m\u001b[39m.\u001b[39mmodel(im, augment\u001b[39m=\u001b[39maugment, visualize\u001b[39m=\u001b[39mvisualize) \u001b[39mif\u001b[39;00m augment \u001b[39mor\u001b[39;00m visualize \u001b[39melse\u001b[39;00m \u001b[39mself\u001b[39;49m\u001b[39m.\u001b[39;49mmodel(im)\n\u001b[0;32m    335\u001b[0m \u001b[39melif\u001b[39;00m \u001b[39mself\u001b[39m\u001b[39m.\u001b[39mjit:  \u001b[39m# TorchScript\u001b[39;00m\n\u001b[0;32m    336\u001b[0m     y \u001b[39m=\u001b[39m \u001b[39mself\u001b[39m\u001b[39m.\u001b[39mmodel(im)\n",
      "File \u001b[1;32m~\\AppData\\Roaming\\Python\\Python311\\site-packages\\torch\\nn\\modules\\module.py:1501\u001b[0m, in \u001b[0;36mModule._call_impl\u001b[1;34m(self, *args, **kwargs)\u001b[0m\n\u001b[0;32m   1496\u001b[0m \u001b[39m# If we don't have any hooks, we want to skip the rest of the logic in\u001b[39;00m\n\u001b[0;32m   1497\u001b[0m \u001b[39m# this function, and just call forward.\u001b[39;00m\n\u001b[0;32m   1498\u001b[0m \u001b[39mif\u001b[39;00m \u001b[39mnot\u001b[39;00m (\u001b[39mself\u001b[39m\u001b[39m.\u001b[39m_backward_hooks \u001b[39mor\u001b[39;00m \u001b[39mself\u001b[39m\u001b[39m.\u001b[39m_backward_pre_hooks \u001b[39mor\u001b[39;00m \u001b[39mself\u001b[39m\u001b[39m.\u001b[39m_forward_hooks \u001b[39mor\u001b[39;00m \u001b[39mself\u001b[39m\u001b[39m.\u001b[39m_forward_pre_hooks\n\u001b[0;32m   1499\u001b[0m         \u001b[39mor\u001b[39;00m _global_backward_pre_hooks \u001b[39mor\u001b[39;00m _global_backward_hooks\n\u001b[0;32m   1500\u001b[0m         \u001b[39mor\u001b[39;00m _global_forward_hooks \u001b[39mor\u001b[39;00m _global_forward_pre_hooks):\n\u001b[1;32m-> 1501\u001b[0m     \u001b[39mreturn\u001b[39;00m forward_call(\u001b[39m*\u001b[39;49margs, \u001b[39m*\u001b[39;49m\u001b[39m*\u001b[39;49mkwargs)\n\u001b[0;32m   1502\u001b[0m \u001b[39m# Do not call functions when jit is used\u001b[39;00m\n\u001b[0;32m   1503\u001b[0m full_backward_hooks, non_full_backward_hooks \u001b[39m=\u001b[39m [], []\n",
      "File \u001b[1;32m~\\AppData\\Roaming\\Python\\Python311\\site-packages\\ultralytics\\nn\\tasks.py:45\u001b[0m, in \u001b[0;36mBaseModel.forward\u001b[1;34m(self, x, *args, **kwargs)\u001b[0m\n\u001b[0;32m     43\u001b[0m \u001b[39mif\u001b[39;00m \u001b[39misinstance\u001b[39m(x, \u001b[39mdict\u001b[39m):  \u001b[39m# for cases of training and validating while training.\u001b[39;00m\n\u001b[0;32m     44\u001b[0m     \u001b[39mreturn\u001b[39;00m \u001b[39mself\u001b[39m\u001b[39m.\u001b[39mloss(x, \u001b[39m*\u001b[39margs, \u001b[39m*\u001b[39m\u001b[39m*\u001b[39mkwargs)\n\u001b[1;32m---> 45\u001b[0m \u001b[39mreturn\u001b[39;00m \u001b[39mself\u001b[39;49m\u001b[39m.\u001b[39;49mpredict(x, \u001b[39m*\u001b[39;49margs, \u001b[39m*\u001b[39;49m\u001b[39m*\u001b[39;49mkwargs)\n",
      "File \u001b[1;32m~\\AppData\\Roaming\\Python\\Python311\\site-packages\\ultralytics\\nn\\tasks.py:62\u001b[0m, in \u001b[0;36mBaseModel.predict\u001b[1;34m(self, x, profile, visualize, augment)\u001b[0m\n\u001b[0;32m     60\u001b[0m \u001b[39mif\u001b[39;00m augment:\n\u001b[0;32m     61\u001b[0m     \u001b[39mreturn\u001b[39;00m \u001b[39mself\u001b[39m\u001b[39m.\u001b[39m_predict_augment(x)\n\u001b[1;32m---> 62\u001b[0m \u001b[39mreturn\u001b[39;00m \u001b[39mself\u001b[39;49m\u001b[39m.\u001b[39;49m_predict_once(x, profile, visualize)\n",
      "File \u001b[1;32m~\\AppData\\Roaming\\Python\\Python311\\site-packages\\ultralytics\\nn\\tasks.py:82\u001b[0m, in \u001b[0;36mBaseModel._predict_once\u001b[1;34m(self, x, profile, visualize)\u001b[0m\n\u001b[0;32m     80\u001b[0m \u001b[39mif\u001b[39;00m profile:\n\u001b[0;32m     81\u001b[0m     \u001b[39mself\u001b[39m\u001b[39m.\u001b[39m_profile_one_layer(m, x, dt)\n\u001b[1;32m---> 82\u001b[0m x \u001b[39m=\u001b[39m m(x)  \u001b[39m# run\u001b[39;00m\n\u001b[0;32m     83\u001b[0m y\u001b[39m.\u001b[39mappend(x \u001b[39mif\u001b[39;00m m\u001b[39m.\u001b[39mi \u001b[39min\u001b[39;00m \u001b[39mself\u001b[39m\u001b[39m.\u001b[39msave \u001b[39melse\u001b[39;00m \u001b[39mNone\u001b[39;00m)  \u001b[39m# save output\u001b[39;00m\n\u001b[0;32m     84\u001b[0m \u001b[39mif\u001b[39;00m visualize:\n",
      "File \u001b[1;32m~\\AppData\\Roaming\\Python\\Python311\\site-packages\\torch\\nn\\modules\\module.py:1501\u001b[0m, in \u001b[0;36mModule._call_impl\u001b[1;34m(self, *args, **kwargs)\u001b[0m\n\u001b[0;32m   1496\u001b[0m \u001b[39m# If we don't have any hooks, we want to skip the rest of the logic in\u001b[39;00m\n\u001b[0;32m   1497\u001b[0m \u001b[39m# this function, and just call forward.\u001b[39;00m\n\u001b[0;32m   1498\u001b[0m \u001b[39mif\u001b[39;00m \u001b[39mnot\u001b[39;00m (\u001b[39mself\u001b[39m\u001b[39m.\u001b[39m_backward_hooks \u001b[39mor\u001b[39;00m \u001b[39mself\u001b[39m\u001b[39m.\u001b[39m_backward_pre_hooks \u001b[39mor\u001b[39;00m \u001b[39mself\u001b[39m\u001b[39m.\u001b[39m_forward_hooks \u001b[39mor\u001b[39;00m \u001b[39mself\u001b[39m\u001b[39m.\u001b[39m_forward_pre_hooks\n\u001b[0;32m   1499\u001b[0m         \u001b[39mor\u001b[39;00m _global_backward_pre_hooks \u001b[39mor\u001b[39;00m _global_backward_hooks\n\u001b[0;32m   1500\u001b[0m         \u001b[39mor\u001b[39;00m _global_forward_hooks \u001b[39mor\u001b[39;00m _global_forward_pre_hooks):\n\u001b[1;32m-> 1501\u001b[0m     \u001b[39mreturn\u001b[39;00m forward_call(\u001b[39m*\u001b[39;49margs, \u001b[39m*\u001b[39;49m\u001b[39m*\u001b[39;49mkwargs)\n\u001b[0;32m   1502\u001b[0m \u001b[39m# Do not call functions when jit is used\u001b[39;00m\n\u001b[0;32m   1503\u001b[0m full_backward_hooks, non_full_backward_hooks \u001b[39m=\u001b[39m [], []\n",
      "File \u001b[1;32m~\\AppData\\Roaming\\Python\\Python311\\site-packages\\ultralytics\\nn\\modules\\block.py:182\u001b[0m, in \u001b[0;36mC2f.forward\u001b[1;34m(self, x)\u001b[0m\n\u001b[0;32m    180\u001b[0m y \u001b[39m=\u001b[39m \u001b[39mlist\u001b[39m(\u001b[39mself\u001b[39m\u001b[39m.\u001b[39mcv1(x)\u001b[39m.\u001b[39mchunk(\u001b[39m2\u001b[39m, \u001b[39m1\u001b[39m))\n\u001b[0;32m    181\u001b[0m y\u001b[39m.\u001b[39mextend(m(y[\u001b[39m-\u001b[39m\u001b[39m1\u001b[39m]) \u001b[39mfor\u001b[39;00m m \u001b[39min\u001b[39;00m \u001b[39mself\u001b[39m\u001b[39m.\u001b[39mm)\n\u001b[1;32m--> 182\u001b[0m \u001b[39mreturn\u001b[39;00m \u001b[39mself\u001b[39;49m\u001b[39m.\u001b[39;49mcv2(torch\u001b[39m.\u001b[39;49mcat(y, \u001b[39m1\u001b[39;49m))\n",
      "File \u001b[1;32m~\\AppData\\Roaming\\Python\\Python311\\site-packages\\torch\\nn\\modules\\module.py:1501\u001b[0m, in \u001b[0;36mModule._call_impl\u001b[1;34m(self, *args, **kwargs)\u001b[0m\n\u001b[0;32m   1496\u001b[0m \u001b[39m# If we don't have any hooks, we want to skip the rest of the logic in\u001b[39;00m\n\u001b[0;32m   1497\u001b[0m \u001b[39m# this function, and just call forward.\u001b[39;00m\n\u001b[0;32m   1498\u001b[0m \u001b[39mif\u001b[39;00m \u001b[39mnot\u001b[39;00m (\u001b[39mself\u001b[39m\u001b[39m.\u001b[39m_backward_hooks \u001b[39mor\u001b[39;00m \u001b[39mself\u001b[39m\u001b[39m.\u001b[39m_backward_pre_hooks \u001b[39mor\u001b[39;00m \u001b[39mself\u001b[39m\u001b[39m.\u001b[39m_forward_hooks \u001b[39mor\u001b[39;00m \u001b[39mself\u001b[39m\u001b[39m.\u001b[39m_forward_pre_hooks\n\u001b[0;32m   1499\u001b[0m         \u001b[39mor\u001b[39;00m _global_backward_pre_hooks \u001b[39mor\u001b[39;00m _global_backward_hooks\n\u001b[0;32m   1500\u001b[0m         \u001b[39mor\u001b[39;00m _global_forward_hooks \u001b[39mor\u001b[39;00m _global_forward_pre_hooks):\n\u001b[1;32m-> 1501\u001b[0m     \u001b[39mreturn\u001b[39;00m forward_call(\u001b[39m*\u001b[39;49margs, \u001b[39m*\u001b[39;49m\u001b[39m*\u001b[39;49mkwargs)\n\u001b[0;32m   1502\u001b[0m \u001b[39m# Do not call functions when jit is used\u001b[39;00m\n\u001b[0;32m   1503\u001b[0m full_backward_hooks, non_full_backward_hooks \u001b[39m=\u001b[39m [], []\n",
      "File \u001b[1;32m~\\AppData\\Roaming\\Python\\Python311\\site-packages\\ultralytics\\nn\\modules\\conv.py:42\u001b[0m, in \u001b[0;36mConv.forward_fuse\u001b[1;34m(self, x)\u001b[0m\n\u001b[0;32m     40\u001b[0m \u001b[39mdef\u001b[39;00m \u001b[39mforward_fuse\u001b[39m(\u001b[39mself\u001b[39m, x):\n\u001b[0;32m     41\u001b[0m \u001b[39m    \u001b[39m\u001b[39m\"\"\"Perform transposed convolution of 2D data.\"\"\"\u001b[39;00m\n\u001b[1;32m---> 42\u001b[0m     \u001b[39mreturn\u001b[39;00m \u001b[39mself\u001b[39m\u001b[39m.\u001b[39mact(\u001b[39mself\u001b[39;49m\u001b[39m.\u001b[39;49mconv(x))\n",
      "File \u001b[1;32m~\\AppData\\Roaming\\Python\\Python311\\site-packages\\torch\\nn\\modules\\module.py:1501\u001b[0m, in \u001b[0;36mModule._call_impl\u001b[1;34m(self, *args, **kwargs)\u001b[0m\n\u001b[0;32m   1496\u001b[0m \u001b[39m# If we don't have any hooks, we want to skip the rest of the logic in\u001b[39;00m\n\u001b[0;32m   1497\u001b[0m \u001b[39m# this function, and just call forward.\u001b[39;00m\n\u001b[0;32m   1498\u001b[0m \u001b[39mif\u001b[39;00m \u001b[39mnot\u001b[39;00m (\u001b[39mself\u001b[39m\u001b[39m.\u001b[39m_backward_hooks \u001b[39mor\u001b[39;00m \u001b[39mself\u001b[39m\u001b[39m.\u001b[39m_backward_pre_hooks \u001b[39mor\u001b[39;00m \u001b[39mself\u001b[39m\u001b[39m.\u001b[39m_forward_hooks \u001b[39mor\u001b[39;00m \u001b[39mself\u001b[39m\u001b[39m.\u001b[39m_forward_pre_hooks\n\u001b[0;32m   1499\u001b[0m         \u001b[39mor\u001b[39;00m _global_backward_pre_hooks \u001b[39mor\u001b[39;00m _global_backward_hooks\n\u001b[0;32m   1500\u001b[0m         \u001b[39mor\u001b[39;00m _global_forward_hooks \u001b[39mor\u001b[39;00m _global_forward_pre_hooks):\n\u001b[1;32m-> 1501\u001b[0m     \u001b[39mreturn\u001b[39;00m forward_call(\u001b[39m*\u001b[39;49margs, \u001b[39m*\u001b[39;49m\u001b[39m*\u001b[39;49mkwargs)\n\u001b[0;32m   1502\u001b[0m \u001b[39m# Do not call functions when jit is used\u001b[39;00m\n\u001b[0;32m   1503\u001b[0m full_backward_hooks, non_full_backward_hooks \u001b[39m=\u001b[39m [], []\n",
      "File \u001b[1;32m~\\AppData\\Roaming\\Python\\Python311\\site-packages\\torch\\nn\\modules\\conv.py:463\u001b[0m, in \u001b[0;36mConv2d.forward\u001b[1;34m(self, input)\u001b[0m\n\u001b[0;32m    462\u001b[0m \u001b[39mdef\u001b[39;00m \u001b[39mforward\u001b[39m(\u001b[39mself\u001b[39m, \u001b[39minput\u001b[39m: Tensor) \u001b[39m-\u001b[39m\u001b[39m>\u001b[39m Tensor:\n\u001b[1;32m--> 463\u001b[0m     \u001b[39mreturn\u001b[39;00m \u001b[39mself\u001b[39;49m\u001b[39m.\u001b[39;49m_conv_forward(\u001b[39minput\u001b[39;49m, \u001b[39mself\u001b[39;49m\u001b[39m.\u001b[39;49mweight, \u001b[39mself\u001b[39;49m\u001b[39m.\u001b[39;49mbias)\n",
      "File \u001b[1;32m~\\AppData\\Roaming\\Python\\Python311\\site-packages\\torch\\nn\\modules\\conv.py:459\u001b[0m, in \u001b[0;36mConv2d._conv_forward\u001b[1;34m(self, input, weight, bias)\u001b[0m\n\u001b[0;32m    455\u001b[0m \u001b[39mif\u001b[39;00m \u001b[39mself\u001b[39m\u001b[39m.\u001b[39mpadding_mode \u001b[39m!=\u001b[39m \u001b[39m'\u001b[39m\u001b[39mzeros\u001b[39m\u001b[39m'\u001b[39m:\n\u001b[0;32m    456\u001b[0m     \u001b[39mreturn\u001b[39;00m F\u001b[39m.\u001b[39mconv2d(F\u001b[39m.\u001b[39mpad(\u001b[39minput\u001b[39m, \u001b[39mself\u001b[39m\u001b[39m.\u001b[39m_reversed_padding_repeated_twice, mode\u001b[39m=\u001b[39m\u001b[39mself\u001b[39m\u001b[39m.\u001b[39mpadding_mode),\n\u001b[0;32m    457\u001b[0m                     weight, bias, \u001b[39mself\u001b[39m\u001b[39m.\u001b[39mstride,\n\u001b[0;32m    458\u001b[0m                     _pair(\u001b[39m0\u001b[39m), \u001b[39mself\u001b[39m\u001b[39m.\u001b[39mdilation, \u001b[39mself\u001b[39m\u001b[39m.\u001b[39mgroups)\n\u001b[1;32m--> 459\u001b[0m \u001b[39mreturn\u001b[39;00m F\u001b[39m.\u001b[39;49mconv2d(\u001b[39minput\u001b[39;49m, weight, bias, \u001b[39mself\u001b[39;49m\u001b[39m.\u001b[39;49mstride,\n\u001b[0;32m    460\u001b[0m                 \u001b[39mself\u001b[39;49m\u001b[39m.\u001b[39;49mpadding, \u001b[39mself\u001b[39;49m\u001b[39m.\u001b[39;49mdilation, \u001b[39mself\u001b[39;49m\u001b[39m.\u001b[39;49mgroups)\n",
      "\u001b[1;31mKeyboardInterrupt\u001b[0m: "
     ]
    }
   ],
   "source": [
    "from ultralytics import YOLO  # pip install ultralytics\n",
    "import os\n",
    "import csv\n",
    "\n",
    "\n",
    "# Load YOLO model\n",
    "model = YOLO('yolov8n.pt')  # Using yolov8n pretrained model\n",
    "folder_path = './All_Images'  # Path to folder where images are stored\n",
    "\n",
    "#1\n",
    "def getFolder_Path(folder_path):\n",
    "    # Getting the path to all files in a list\n",
    "    file_list = []\n",
    "\n",
    "    for root, dirs, files in os.walk(folder_path):\n",
    "        for file_name in files:\n",
    "            file_list.append(file_name)\n",
    "    return file_list\n",
    "\n",
    "#2\n",
    "def detect_Segments():\n",
    "    # Using YOLO to detect objects in every image\n",
    "    files_in_folder = getFolder_Path(folder_path)\n",
    "    for i in files_in_folder:\n",
    "        path = f'./All_Images/{i}'\n",
    "        results = model.predict(path, save=True)\n",
    "        counts, total_objects = count_Entities(results)\n",
    "        write_to_CSV(i, counts, total_objects)\n",
    "\n",
    "    return counts , total_objects\n",
    "\n",
    "#3\n",
    "def count_Entities(results):\n",
    "    counts = {}\n",
    "    total_objects = 0\n",
    "\n",
    "    for result in results:\n",
    "        boxes = result.boxes.cpu().numpy()\n",
    "        total_objects += len(boxes)\n",
    "        for box in boxes:\n",
    "            cls = int(box.cls[0])\n",
    "            if cls not in counts:\n",
    "                counts[cls] = 1\n",
    "            else:\n",
    "                counts[cls] += 1\n",
    "\n",
    "    return counts, total_objects\n",
    "\n",
    "#4\n",
    "def write_to_CSV(img_name, counts, total_objects):\n",
    "    # Writing the data to a CSV file\n",
    "    name = img_name.split('.')[0]\n",
    "    csv_path = f\"./runs/detect/predict/{name}.csv\"\n",
    "\n",
    "    with open(csv_path, mode='w', newline='') as csv_file:\n",
    "        writer = csv.writer(csv_file)\n",
    "        writer.writerow(['Entity', 'Count'])\n",
    "        for key in counts:\n",
    "            writer.writerow([model.names[key], counts[key]])\n",
    "        writer.writerow(['Total Objects', total_objects])\n",
    "\n",
    "    print(f\"Data saved to {csv_path}\")\n",
    "\n",
    "\n",
    "#6\n",
    "if __name__ == \"__main__\":\n",
    "    detect_Segments()"
   ]
  }
 ],
 "metadata": {
  "kernelspec": {
   "display_name": "Python 3",
   "language": "python",
   "name": "python3"
  },
  "language_info": {
   "codemirror_mode": {
    "name": "ipython",
    "version": 3
   },
   "file_extension": ".py",
   "mimetype": "text/x-python",
   "name": "python",
   "nbconvert_exporter": "python",
   "pygments_lexer": "ipython3",
   "version": "3.11.4"
  },
  "orig_nbformat": 4
 },
 "nbformat": 4,
 "nbformat_minor": 2
}
